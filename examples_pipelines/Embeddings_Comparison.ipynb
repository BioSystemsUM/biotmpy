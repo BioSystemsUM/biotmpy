{
 "cells": [
  {
   "cell_type": "code",
   "execution_count": 2,
   "metadata": {},
   "outputs": [],
   "source": [
    "import matplotlib.pyplot as plt\n",
    "import seaborn as sns\n",
    "from scipy.stats import wilcoxon\n",
    "import itertools\n",
    "import statistics"
   ]
  },
  {
   "cell_type": "markdown",
   "metadata": {},
   "source": [
    "### Han"
   ]
  },
  {
   "cell_type": "markdown",
   "metadata": {},
   "source": [
    "## Split = False"
   ]
  },
  {
   "cell_type": "code",
   "execution_count": 3,
   "metadata": {},
   "outputs": [
    {
     "name": "stdout",
     "output_type": "stream",
     "text": [
      "glove:  73.54211688041687\n",
      "biowordvec:  74.76736724376678\n",
      "pubmed_pmc: 74.88871693611145\n",
      "pubmed_ncbi:  73.5911351442337\n"
     ]
    }
   ],
   "source": [
    "glove_han_ns = [0.713936448097229, 0.7677261829376221, 0.7745097875595093, 0.7254902124404907, 0.7524510025978088, 0.7254902124404907, 0.7524510025978088, 0.7426470518112183, 0.6813725233078003, 0.718137264251709]\n",
    "biowordvec_han_ns = [0.7212713956832886, 0.7701711654663086, 0.7843137383460999, 0.7352941036224365, 0.7377451062202454, 0.75, 0.779411792755127, 0.7720588445663452, 0.686274528503418, 0.7401960492134094]\n",
    "pubmed_pmc_han_ns = [0.7603911757469177, 0.7799510955810547, 0.7720588445663452, 0.7647058963775635, 0.7328431606292725, 0.7475489974021912, 0.7303921580314636, 0.7647058963775635, 0.7156862616539001, 0.720588207244873]\n",
    "pubmed_ncbi_han_ns = [0.7334963083267212, 0.7481662631034851, 0.7622548937797546, 0.720588207244873, 0.7450980544090271, 0.7475489974021912, 0.7573529481887817, 0.7696078419685364, 0.656862735748291, 0.718137264251709]\n",
    "\n",
    "glove_han_ns = [element * 100 for element in glove_han_ns]\n",
    "biowordvec_han_ns = [element * 100 for element in biowordvec_han_ns]\n",
    "pubmed_pmc_han_ns = [element * 100 for element in pubmed_pmc_han_ns]\n",
    "pubmed_ncbi_han_ns = [element * 100 for element in pubmed_ncbi_han_ns]\n",
    "\n",
    "\n",
    "\n",
    "print('glove: ', sum(glove_han_ns)/len(glove_han_ns))\n",
    "print('biowordvec: ', sum(biowordvec_han_ns)/len(biowordvec_han_ns))\n",
    "print('pubmed_pmc:' , sum(pubmed_pmc_han_ns)/len(pubmed_pmc_han_ns))\n",
    "print('pubmed_ncbi: ', sum(pubmed_ncbi_han_ns)/len(pubmed_ncbi_han_ns))"
   ]
  },
  {
   "cell_type": "code",
   "execution_count": 4,
   "metadata": {},
   "outputs": [
    {
     "name": "stdout",
     "output_type": "stream",
     "text": [
      "WilcoxonResult(statistic=6.0, pvalue=0.02734375) glove - biowordvec\n",
      "WilcoxonResult(statistic=12.0, pvalue=0.130859375) glove - pubmed_pmc\n",
      "WilcoxonResult(statistic=22.0, pvalue=0.9527650219907529) glove - pubmed_ncbi\n",
      "WilcoxonResult(statistic=27.0, pvalue=1.0) biowordvec - pubmed_pmc\n",
      "WilcoxonResult(statistic=7.0, pvalue=0.037109375) biowordvec - pubmed_ncbi\n",
      "WilcoxonResult(statistic=12.0, pvalue=0.21352435403618242) pubmed_pmc - pubmed_ncbi\n"
     ]
    },
    {
     "name": "stderr",
     "output_type": "stream",
     "text": [
      "/home/malves/miniconda3/envs/biotmpygpu/lib/python3.8/site-packages/scipy/stats/morestats.py:2957: UserWarning: Exact p-value calculation does not work if there are ties. Switching to normal approximation.\n",
      "  warnings.warn(\"Exact p-value calculation does not work if there are \"\n",
      "/home/malves/miniconda3/envs/biotmpygpu/lib/python3.8/site-packages/scipy/stats/morestats.py:2971: UserWarning: Sample size too small for normal approximation.\n",
      "  warnings.warn(\"Sample size too small for normal approximation.\")\n"
     ]
    }
   ],
   "source": [
    "myList = [glove_han_ns, biowordvec_han_ns, pubmed_pmc_han_ns, pubmed_ncbi_han_ns]\n",
    "names = ['glove', 'biowordvec', 'pubmed_pmc', 'pubmed_ncbi']\n",
    "\n",
    "for a, b in itertools.combinations(myList, 2):\n",
    "    print(wilcoxon(a, b), names[myList.index(a)], '-', names[myList.index(b)])"
   ]
  },
  {
   "cell_type": "markdown",
   "metadata": {},
   "source": [
    "### Split = True"
   ]
  },
  {
   "cell_type": "code",
   "execution_count": 5,
   "metadata": {},
   "outputs": [
    {
     "name": "stdout",
     "output_type": "stream",
     "text": [
      "73.93505275249481\n",
      "74.74303722381592\n",
      "75.28147280216217\n",
      "72.85674035549164\n"
     ]
    }
   ],
   "source": [
    "glove_han_s = [0.709046483039856, 0.7408313155174255, 0.7769607901573181, 0.7426470518112183, 0.7573529481887817, 0.7230392098426819, 0.75, 0.7328431606292725, 0.7009803652763367, 0.7598039507865906]\n",
    "biowordvec_han_s = [0.713936448097229, 0.7701711654663086, 0.781862735748291, 0.7475489974021912, 0.7450980544090271, 0.75, 0.75, 0.7696078419685364, 0.6936274766921997, 0.7524510025978088]\n",
    "pubmed_pmc_han_s = [0.7481662631034851, 0.7677261829376221, 0.8210784196853638, 0.75, 0.7279411554336548, 0.7450980544090271, 0.7549019455909729, 0.75, 0.7083333134651184, 0.7549019455909729]\n",
    "pubmed_ncbi_han_s = [0.709046483039856, 0.7359412908554077, 0.7622548937797546, 0.7058823704719543, 0.7671568393707275, 0.7303921580314636, 0.7254902124404907, 0.7647058963775635, 0.656862735748291, 0.7279411554336548]\n",
    "\n",
    "glove_han_s = [element * 100 for element in glove_han_s]\n",
    "biowordvec_han_s = [element * 100 for element in biowordvec_han_s]\n",
    "pubmed_pmc_han_s = [element * 100 for element in pubmed_pmc_han_s]\n",
    "pubmed_ncbi_han_s = [element * 100 for element in pubmed_ncbi_han_s]\n",
    "\n",
    "print(sum(glove_han_s)/len(glove_han_s))\n",
    "print(sum(biowordvec_han_s)/len(biowordvec_han_s))\n",
    "print(sum(pubmed_pmc_han_s)/len(pubmed_pmc_han_s))\n",
    "print(sum(pubmed_ncbi_han_s)/len(pubmed_ncbi_han_s))"
   ]
  },
  {
   "cell_type": "code",
   "execution_count": 6,
   "metadata": {},
   "outputs": [
    {
     "name": "stdout",
     "output_type": "stream",
     "text": [
      "WilcoxonResult(statistic=15.0, pvalue=0.3738398566319153) glove - biowordvec\n",
      "WilcoxonResult(statistic=10.0, pvalue=0.083984375) glove - pubmed_pmc\n",
      "WilcoxonResult(statistic=11.0, pvalue=0.1730709208049953) glove - pubmed_ncbi\n",
      "WilcoxonResult(statistic=20.5, pvalue=0.4921875) biowordvec - pubmed_pmc\n",
      "WilcoxonResult(statistic=5.0, pvalue=0.01953125) biowordvec - pubmed_ncbi\n",
      "WilcoxonResult(statistic=8.5, pvalue=0.064453125) pubmed_pmc - pubmed_ncbi\n"
     ]
    }
   ],
   "source": [
    "myList = [glove_han_s, biowordvec_han_s, pubmed_pmc_han_s, pubmed_ncbi_han_s]\n",
    "names = ['glove', 'biowordvec', 'pubmed_pmc', 'pubmed_ncbi']\n",
    "\n",
    "for a, b in itertools.combinations(myList, 2):\n",
    "    print(wilcoxon(a, b), names[myList.index(a)], '-', names[myList.index(b)])"
   ]
  },
  {
   "cell_type": "code",
   "execution_count": 46,
   "metadata": {},
   "outputs": [
    {
     "data": {
      "image/png": "[encoded data removed]",
      "text/plain": [
       "<Figure size 1080x360 with 2 Axes>"
      ]
     },
     "metadata": {
      "needs_background": "light"
     },
     "output_type": "display_data"
    }
   ],
   "source": [
    "data_ns = [glove_han_ns, biowordvec_han_ns, pubmed_pmc_han_ns, pubmed_ncbi_han_ns]\n",
    "fig, (ax1, ax2) = plt.subplots(1, 2, sharey=True)\n",
    "ax1.set_title('Embeddings - HAN (split-by-hyphen=False)', fontsize=16)\n",
    "    \n",
    "medianprops = dict(linestyle='-', linewidth=2, color='black')\n",
    "    \n",
    "bplot1 = ax1.boxplot(data_ns, patch_artist=True, medianprops=medianprops)\n",
    "\n",
    "\n",
    "pallete = sns.color_palette('colorblind')\n",
    "for box, color in zip(bplot1['boxes'], pallete):\n",
    "    box.set(facecolor = color)\n",
    "\n",
    "    \n",
    "ax1.set_xticklabels(['glove', 'biowordvec', 'pubmed_pmc', 'pubmed_ncbi'], fontsize=13)\n",
    "\n",
    "data_s = [glove_han_s, biowordvec_han_s, pubmed_pmc_han_s, pubmed_ncbi_han_s]\n",
    "ax2.set_title('Embeddings - HAN (split-by-hyphen=True)', fontsize=16)\n",
    "    \n",
    "medianprops = dict(linestyle='-', linewidth=2, color='black')\n",
    "    \n",
    "bplot2 = ax2.boxplot(data_s, patch_artist=True, medianprops=medianprops)\n",
    "\n",
    "for box, color in zip(bplot2['boxes'], pallete):\n",
    "    box.set(facecolor = color)\n",
    "\n",
    "\n",
    "ax2.set_xticklabels(['glove', 'biowordvec', 'pubmed_pmc', 'pubmed_ncbi'], fontsize=13)\n",
    "ax1.set_ylim((55,85))\n",
    "ax1.grid(True)\n",
    "ax2.grid(True)\n",
    "plt.subplots_adjust(wspace=70)\n",
    "plt.tight_layout()\n",
    "plt.rcParams['figure.figsize'] = [15,5]\n",
    "plt.savefig('embeddings_comparison_han.pdf')\n",
    "plt.show()"
   ]
  },
  {
   "cell_type": "markdown",
   "metadata": {},
   "source": [
    "## CNN-BiLSTM"
   ]
  },
  {
   "cell_type": "markdown",
   "metadata": {},
   "source": [
    "### Split=False"
   ]
  },
  {
   "cell_type": "code",
   "execution_count": 24,
   "metadata": {},
   "outputs": [
    {
     "name": "stdout",
     "output_type": "stream",
     "text": [
      "60.23964464664459\n",
      "63.08050453662872\n",
      "62.41915941238403\n",
      "63.032084703445435\n"
     ]
    }
   ],
   "source": [
    "glove_cbl_ns = [0.6088019609451294, 0.6136919260025024, 0.6029411554336548, 0.5588235259056091, 0.6274510025978088, 0.6053921580314636, 0.6274510025978088, 0.6151960492134094, 0.5759803652763367, 0.5882353186607361]\n",
    "biowordvec_cbl_ns = [0.6503667235374451, 0.665036678314209, 0.6348039507865906, 0.6421568393707275, 0.6323529481887817, 0.6421568393707275, 0.6715686321258545, 0.6029411554336548, 0.5661764740943909, 0.6004902124404907]\n",
    "pubmed_pmc_cbl_ns = [0.6332518458366394, 0.665036678314209, 0.6348039507865906, 0.6004902124404907, 0.6274510025978088, 0.6299019455909729, 0.6642156839370728, 0.6151960492134094, 0.5759803652763367, 0.595588207244873]\n",
    "pubmed_ncbi_cbl_ns = [0.6308068633079529, 0.6601467132568359, 0.6666666865348816, 0.6470588445663452, 0.6421568393707275, 0.6299019455909729, 0.6274510025978088, 0.6176470518112183, 0.5661764740943909, 0.6151960492134094]\n",
    "\n",
    "glove_cbl_ns = [element * 100 for element in glove_cbl_ns]\n",
    "biowordvec_cbl_ns = [element * 100 for element in biowordvec_cbl_ns]\n",
    "pubmed_pmc_cbl_ns = [element * 100 for element in pubmed_pmc_cbl_ns]\n",
    "pubmed_ncbi_cbl_ns = [element * 100 for element in pubmed_ncbi_cbl_ns]\n",
    "\n",
    "print(sum(glove_cbl_ns)/len(glove_cbl_ns))\n",
    "print(sum(biowordvec_cbl_ns)/len(biowordvec_cbl_ns))\n",
    "print(sum(pubmed_pmc_cbl_ns)/len(pubmed_pmc_cbl_ns))\n",
    "print(sum(pubmed_ncbi_cbl_ns)/len(pubmed_ncbi_cbl_ns))"
   ]
  },
  {
   "cell_type": "code",
   "execution_count": 25,
   "metadata": {},
   "outputs": [
    {
     "name": "stdout",
     "output_type": "stream",
     "text": [
      "WilcoxonResult(statistic=5.5, pvalue=0.01953125) glove - biowordvec\n",
      "WilcoxonResult(statistic=0.0, pvalue=0.017960477526078766) glove - pubmed_pmc\n",
      "WilcoxonResult(statistic=2.0, pvalue=0.015155973880974605) glove - pubmed_ncbi\n",
      "WilcoxonResult(statistic=9.5, pvalue=0.23337913996950255) biowordvec - pubmed_pmc\n",
      "WilcoxonResult(statistic=21.0, pvalue=0.8589549227374824) biowordvec - pubmed_ncbi\n",
      "WilcoxonResult(statistic=16.0, pvalue=0.44126813332892967) pubmed_pmc - pubmed_ncbi\n"
     ]
    },
    {
     "name": "stderr",
     "output_type": "stream",
     "text": [
      "/home/malves/miniconda3/envs/biotmpygpu/lib/python3.8/site-packages/scipy/stats/morestats.py:2957: UserWarning: Exact p-value calculation does not work if there are ties. Switching to normal approximation.\n",
      "  warnings.warn(\"Exact p-value calculation does not work if there are \"\n",
      "/home/malves/miniconda3/envs/biotmpygpu/lib/python3.8/site-packages/scipy/stats/morestats.py:2971: UserWarning: Sample size too small for normal approximation.\n",
      "  warnings.warn(\"Sample size too small for normal approximation.\")\n"
     ]
    }
   ],
   "source": [
    "myList = [glove_cbl_ns, biowordvec_cbl_ns, pubmed_pmc_cbl_ns, pubmed_ncbi_cbl_ns]\n",
    "\n",
    "names = ['glove', 'biowordvec', 'pubmed_pmc', 'pubmed_ncbi']\n",
    "for a, b in itertools.combinations(myList, 2):\n",
    "    print(wilcoxon(a, b), names[myList.index(a)], '-', names[myList.index(b)])"
   ]
  },
  {
   "cell_type": "markdown",
   "metadata": {},
   "source": [
    "### Split=True"
   ]
  },
  {
   "cell_type": "code",
   "execution_count": 26,
   "metadata": {},
   "outputs": [
    {
     "name": "stdout",
     "output_type": "stream",
     "text": [
      "60.092405676841736\n",
      "62.95801639556885\n",
      "62.19863176345825\n",
      "63.08104455471039\n"
     ]
    }
   ],
   "source": [
    "glove_cbl_s = [0.6185818910598755, 0.6112469434738159, 0.5857843160629272, 0.5563725233078003, 0.6274510025978088, 0.5980392098426819, 0.6176470518112183, 0.6225489974021912, 0.5784313678741455, 0.593137264251709]\n",
    "biowordvec_cbl_s = [0.6430317759513855, 0.669926643371582, 0.6348039507865906, 0.6446078419685364, 0.6274510025978088, 0.6348039507865906, 0.6715686321258545, 0.6053921580314636, 0.5710784196853638, 0.593137264251709]\n",
    "pubmed_pmc_cbl_s = [0.6308068633079529, 0.665036678314209, 0.6323529481887817, 0.6004902124404907, 0.625, 0.6225489974021912, 0.6617646813392639, 0.6078431606292725, 0.5735294222831726, 0.6004902124404907]\n",
    "pubmed_ncbi_cbl_s = [0.6332518458366394, 0.6601467132568359, 0.6666666865348816, 0.6470588445663452, 0.6421568393707275, 0.6323529481887817, 0.6274510025978088, 0.6176470518112183, 0.5661764740943909, 0.6151960492134094]\n",
    "\n",
    "glove_cbl_s = [element * 100 for element in glove_cbl_s]\n",
    "biowordvec_cbl_s = [element * 100 for element in biowordvec_cbl_s]\n",
    "pubmed_pmc_cbl_s = [element * 100 for element in pubmed_pmc_cbl_s]\n",
    "pubmed_ncbi_cbl_s = [element * 100 for element in pubmed_ncbi_cbl_s]\n",
    "\n",
    "print(sum(glove_cbl_s)/len(glove_cbl_s))\n",
    "print(sum(biowordvec_cbl_s)/len(biowordvec_cbl_s))\n",
    "print(sum(pubmed_pmc_cbl_s)/len(pubmed_pmc_cbl_s))\n",
    "print(sum(pubmed_ncbi_cbl_s)/len(pubmed_ncbi_cbl_s))"
   ]
  },
  {
   "cell_type": "code",
   "execution_count": 27,
   "metadata": {},
   "outputs": [
    {
     "name": "stdout",
     "output_type": "stream",
     "text": [
      "WilcoxonResult(statistic=3.0, pvalue=0.03569190011680441) glove - biowordvec\n",
      "WilcoxonResult(statistic=8.0, pvalue=0.048828125) glove - pubmed_pmc\n",
      "WilcoxonResult(statistic=4.0, pvalue=0.013671875) glove - pubmed_ncbi\n",
      "WilcoxonResult(statistic=11.0, pvalue=0.10546875) biowordvec - pubmed_pmc\n",
      "WilcoxonResult(statistic=23.5, pvalue=0.6953125) biowordvec - pubmed_ncbi\n",
      "WilcoxonResult(statistic=13.0, pvalue=0.16015625) pubmed_pmc - pubmed_ncbi\n"
     ]
    }
   ],
   "source": [
    "myList = [glove_cbl_s, biowordvec_cbl_s, pubmed_pmc_cbl_s, pubmed_ncbi_cbl_s]\n",
    "names = ['glove', 'biowordvec', 'pubmed_pmc', 'pubmed_ncbi']\n",
    "for a, b in itertools.combinations(myList, 2):\n",
    "    print(wilcoxon(a, b), names[myList.index(a)], '-', names[myList.index(b)])"
   ]
  },
  {
   "cell_type": "code",
   "execution_count": 44,
   "metadata": {},
   "outputs": [
    {
     "data": {
      "image/png": "[encoded data removed]",
      "text/plain": [
       "<Figure size 1080x360 with 2 Axes>"
      ]
     },
     "metadata": {
      "needs_background": "light"
     },
     "output_type": "display_data"
    }
   ],
   "source": [
    "data_cbl_ns = [glove_cbl_ns, biowordvec_cbl_ns, pubmed_pmc_cbl_ns, pubmed_ncbi_cbl_ns]\n",
    "fig, (ax1, ax2) = plt.subplots(1, 2, sharey=True)\n",
    "ax1.set_title('Embeddings - CNN-BiLSTM (split-by-hyphen=False)', fontsize=16)\n",
    "    \n",
    "medianprops = dict(linestyle='-', linewidth=2, color='black')\n",
    "    \n",
    "bplot1 = ax1.boxplot(data_cbl_ns, patch_artist=True, medianprops=medianprops)\n",
    "\n",
    "\n",
    "pallete = sns.color_palette('colorblind')\n",
    "for box, color in zip(bplot1['boxes'], pallete):\n",
    "    box.set(facecolor = color)\n",
    "\n",
    "    \n",
    "ax1.set_xticklabels(['glove', 'biowordvec', 'pubmed_pmc', 'pubmed_ncbi'], fontsize=13)\n",
    "\n",
    "\n",
    "data_cbl_s = [glove_cbl_s, biowordvec_cbl_s, pubmed_pmc_cbl_s, pubmed_ncbi_cbl_s]\n",
    "ax2.set_title('Embeddings - CNN-BiLSTM (split-by-hyphen=True)', fontsize=16)\n",
    "    \n",
    "medianprops = dict(linestyle='-', linewidth=2, color='black')\n",
    "    \n",
    "bplot2 = ax2.boxplot(data_cbl_s, patch_artist=True, medianprops=medianprops)\n",
    "\n",
    "\n",
    "pallete = sns.color_palette('colorblind')\n",
    "for box, color in zip(bplot2['boxes'], pallete):\n",
    "    box.set(facecolor = color)\n",
    "\n",
    "\n",
    "ax2.set_xticklabels(['glove', 'biowordvec', 'pubmed_pmc', 'pubmed_ncbi'], fontsize=13)\n",
    "plt.rcParams['figure.figsize'] = [15,5]\n",
    "\n",
    "ax1.set_ylim((55, 85))\n",
    "ax1.grid(True)\n",
    "ax2.grid(True)\n",
    "plt.subplots_adjust(wspace=70)\n",
    "plt.tight_layout()\n",
    "plt.savefig('embeddings_comparison_cbl.pdf')\n",
    "plt.show()"
   ]
  },
  {
   "cell_type": "markdown",
   "metadata": {},
   "source": [
    "## EMBEDDINGS COMPARISON"
   ]
  },
  {
   "cell_type": "code",
   "execution_count": 12,
   "metadata": {},
   "outputs": [],
   "source": [
    "glove = glove_han_ns + glove_han_s + glove_cbl_ns + glove_cbl_s\n",
    "biowordvec = biowordvec_han_ns + biowordvec_han_s + biowordvec_cbl_ns + biowordvec_cbl_s\n",
    "pubmed_pmc = pubmed_pmc_han_ns + pubmed_pmc_han_s + pubmed_pmc_cbl_ns + pubmed_pmc_cbl_s\n",
    "pubmed_ncbi = pubmed_ncbi_han_ns + pubmed_ncbi_han_s + pubmed_ncbi_cbl_ns + pubmed_ncbi_cbl_s"
   ]
  },
  {
   "cell_type": "code",
   "execution_count": 13,
   "metadata": {
    "scrolled": false
   },
   "outputs": [
    {
     "name": "stdout",
     "output_type": "stream",
     "text": [
      "WilcoxonResult(statistic=3.0, pvalue=0.03569190011680441) glove - biowordvec\n",
      "WilcoxonResult(statistic=8.0, pvalue=0.048828125) glove - pubmed_pmc\n",
      "WilcoxonResult(statistic=4.0, pvalue=0.013671875) glove - pubmed_ncbi\n",
      "WilcoxonResult(statistic=11.0, pvalue=0.10546875) biowordvec - pubmed_pmc\n",
      "WilcoxonResult(statistic=23.5, pvalue=0.6953125) biowordvec - pubmed_ncbi\n",
      "WilcoxonResult(statistic=13.0, pvalue=0.16015625) pubmed_pmc - pubmed_ncbi\n"
     ]
    },
    {
     "name": "stderr",
     "output_type": "stream",
     "text": [
      "/home/malves/miniconda3/envs/biotmpygpu/lib/python3.8/site-packages/scipy/stats/morestats.py:2957: UserWarning: Exact p-value calculation does not work if there are ties. Switching to normal approximation.\n",
      "  warnings.warn(\"Exact p-value calculation does not work if there are \"\n",
      "/home/malves/miniconda3/envs/biotmpygpu/lib/python3.8/site-packages/scipy/stats/morestats.py:2971: UserWarning: Sample size too small for normal approximation.\n",
      "  warnings.warn(\"Sample size too small for normal approximation.\")\n"
     ]
    }
   ],
   "source": [
    "total_list = [glove, biowordvec, pubmed_pmc, pubmed_ncbi]\n",
    "\n",
    "names = ['glove', 'biowordvec', 'pubmed_pmc', 'pubmed_ncbi']\n",
    "for a, b in itertools.combinations(myList, 2):\n",
    "    print(wilcoxon(a, b,), names[myList.index(a)], '-', names[myList.index(b)])"
   ]
  },
  {
   "cell_type": "code",
   "execution_count": 14,
   "metadata": {
    "scrolled": true
   },
   "outputs": [
    {
     "name": "stdout",
     "output_type": "stream",
     "text": [
      "66.9523049890995 \t Standard Deviation: 7.257531137474659\n",
      "68.88723134994507 \t Standard Deviation: 6.617433614171133\n",
      "68.69699522852898 \t Standard Deviation: 6.978961527967742\n",
      "68.14025118947029 \t Standard Deviation: 5.936463481981753\n"
     ]
    }
   ],
   "source": [
    "print(sum(glove)/len(glove),'\\t Standard Deviation:', statistics.stdev(glove))\n",
    "print(sum(biowordvec)/len(biowordvec),'\\t Standard Deviation:', statistics.stdev(biowordvec))\n",
    "print(sum(pubmed_pmc)/len(pubmed_pmc),'\\t Standard Deviation:', statistics.stdev(pubmed_pmc))\n",
    "print(sum(pubmed_ncbi)/len(pubmed_ncbi),'\\t Standard Deviation:', statistics.stdev(pubmed_ncbi))"
   ]
  },
  {
   "cell_type": "markdown",
   "metadata": {},
   "source": [
    "## NON-SPLIT VS SPLIT"
   ]
  },
  {
   "cell_type": "code",
   "execution_count": 15,
   "metadata": {},
   "outputs": [],
   "source": [
    "ns = glove_han_ns + biowordvec_han_ns + pubmed_pmc_han_ns + pubmed_ncbi_han_ns + glove_cbl_ns + biowordvec_cbl_ns + pubmed_pmc_cbl_ns + pubmed_ncbi_cbl_ns\n",
    "    \n",
    "s = glove_han_s + biowordvec_han_s + pubmed_pmc_han_s + pubmed_ncbi_han_s + glove_cbl_s + biowordvec_cbl_s + pubmed_pmc_cbl_s + pubmed_ncbi_cbl_s\n",
    "\n",
    "    \n"
   ]
  },
  {
   "cell_type": "code",
   "execution_count": 16,
   "metadata": {},
   "outputs": [
    {
     "name": "stdout",
     "output_type": "stream",
     "text": [
      "WilcoxonResult(statistic=858.5, pvalue=0.30542809001680615) non-split - split\n"
     ]
    }
   ],
   "source": [
    "print(wilcoxon(ns, s), 'non-split - split')"
   ]
  },
  {
   "cell_type": "code",
   "execution_count": 17,
   "metadata": {},
   "outputs": [
    {
     "name": "stdout",
     "output_type": "stream",
     "text": [
      "Mean: 68.19509118795395 \t Standard Deviation: 6.6825457797563566\n",
      "68.14330019056797 \t Standard Deviation: 6.749632773496967\n"
     ]
    }
   ],
   "source": [
    "print('Mean:', sum(ns)/len(ns), '\\t Standard Deviation:', statistics.stdev(ns))\n",
    "print(sum(s)/len(s), '\\t Standard Deviation:', statistics.stdev(s))"
   ]
  },
  {
   "cell_type": "code",
   "execution_count": null,
   "metadata": {},
   "outputs": [],
   "source": []
  },
  {
   "cell_type": "code",
   "execution_count": 18,
   "metadata": {},
   "outputs": [
    {
     "data": {
      "text/plain": [
       "WilcoxonResult(statistic=66.5, pvalue=0.9380099152299437)"
      ]
     },
     "execution_count": 18,
     "metadata": {},
     "output_type": "execute_result"
    }
   ],
   "source": [
    "wilcoxon( (biowordvec_han_ns+biowordvec_cbl_ns) , (biowordvec_han_s+biowordvec_cbl_s))"
   ]
  },
  {
   "cell_type": "code",
   "execution_count": 19,
   "metadata": {},
   "outputs": [
    {
     "data": {
      "text/plain": [
       "[72.12713956832886,\n",
       " 77.01711654663086,\n",
       " 78.43137383460999,\n",
       " 73.52941036224365,\n",
       " 73.77451062202454,\n",
       " 75.0,\n",
       " 77.9411792755127,\n",
       " 77.20588445663452,\n",
       " 68.6274528503418,\n",
       " 74.01960492134094,\n",
       " 65.0366723537445,\n",
       " 66.5036678314209,\n",
       " 63.48039507865906,\n",
       " 64.21568393707275,\n",
       " 63.235294818878174,\n",
       " 64.21568393707275,\n",
       " 67.15686321258545,\n",
       " 60.29411554336548,\n",
       " 56.61764740943909,\n",
       " 60.04902124404907]"
      ]
     },
     "execution_count": 19,
     "metadata": {},
     "output_type": "execute_result"
    }
   ],
   "source": [
    "biowordvec_han_ns+biowordvec_cbl_ns"
   ]
  },
  {
   "cell_type": "code",
   "execution_count": 20,
   "metadata": {},
   "outputs": [
    {
     "data": {
      "text/plain": [
       "68.92393589019775"
      ]
     },
     "execution_count": 20,
     "metadata": {},
     "output_type": "execute_result"
    }
   ],
   "source": [
    "sum(biowordvec_han_ns+biowordvec_cbl_ns)/len(biowordvec_han_ns+biowordvec_cbl_ns)"
   ]
  },
  {
   "cell_type": "code",
   "execution_count": 22,
   "metadata": {},
   "outputs": [
    {
     "data": {
      "text/plain": [
       "6.723350266118654"
      ]
     },
     "execution_count": 22,
     "metadata": {},
     "output_type": "execute_result"
    }
   ],
   "source": [
    "statistics.stdev(biowordvec_han_ns+biowordvec_cbl_ns)"
   ]
  },
  {
   "cell_type": "code",
   "execution_count": 21,
   "metadata": {},
   "outputs": [
    {
     "data": {
      "text/plain": [
       "68.85052680969238"
      ]
     },
     "execution_count": 21,
     "metadata": {},
     "output_type": "execute_result"
    }
   ],
   "source": [
    "sum(biowordvec_han_s+biowordvec_cbl_s)/len(biowordvec_han_s+biowordvec_cbl_s)"
   ]
  },
  {
   "cell_type": "code",
   "execution_count": 24,
   "metadata": {},
   "outputs": [
    {
     "data": {
      "text/plain": [
       "6.6842605847502705"
      ]
     },
     "execution_count": 24,
     "metadata": {},
     "output_type": "execute_result"
    }
   ],
   "source": [
    "statistics.stdev(biowordvec_han_s+biowordvec_cbl_s)"
   ]
  },
  {
   "cell_type": "code",
   "execution_count": null,
   "metadata": {},
   "outputs": [],
   "source": []
  }
 ],
 "metadata": {
  "kernelspec": {
   "display_name": "Python 3",
   "language": "python",
   "name": "python3"
  },
  "language_info": {
   "codemirror_mode": {
    "name": "ipython",
    "version": 3
   },
   "file_extension": ".py",
   "mimetype": "text/x-python",
   "name": "python",
   "nbconvert_exporter": "python",
   "pygments_lexer": "ipython3",
   "version": "3.8.5"
  }
 },
 "nbformat": 4,
 "nbformat_minor": 4
}
