{
 "cells": [
  {
   "cell_type": "code",
   "execution_count": 2,
   "metadata": {},
   "outputs": [],
   "source": [
    "model_name= 'Burns_CNNBiLSTM'"
   ]
  },
  {
   "cell_type": "code",
   "execution_count": 3,
   "metadata": {},
   "outputs": [],
   "source": [
    "%load_ext autoreload\n",
    "%autoreload 2"
   ]
  },
  {
   "cell_type": "code",
   "execution_count": 4,
   "metadata": {},
   "outputs": [],
   "source": [
    "import sys \n",
    "sys.path.append('../')"
   ]
  },
  {
   "cell_type": "code",
   "execution_count": 5,
   "metadata": {},
   "outputs": [
    {
     "name": "stdout",
     "output_type": "stream",
     "text": [
      "Environment: biotmpygpu\n"
     ]
    },
    {
     "data": {
      "text/plain": [
       "'2.2.0'"
      ]
     },
     "execution_count": 5,
     "metadata": {},
     "output_type": "execute_result"
    }
   ],
   "source": [
    "import os\n",
    "import tensorflow \n",
    "import numpy as np\n",
    "import random\n",
    "\n",
    "seed_value = 123123\n",
    "seed_value = None\n",
    "\n",
    "environment_name = sys.executable.split('/')[-3]\n",
    "print('Environment:', environment_name)\n",
    "os.environ[environment_name] = str(seed_value)\n",
    "\n",
    "np.random.seed(seed_value)\n",
    "random.seed(seed_value)\n",
    "tensorflow.random.set_seed(seed_value)\n",
    "\n",
    "from tensorflow.compat.v1 import ConfigProto\n",
    "from tensorflow.compat.v1 import InteractiveSession\n",
    "import tensorflow.compat.v1.keras.backend as K\n",
    "config = ConfigProto()\n",
    "config.gpu_options.allow_growth = True\n",
    "session = InteractiveSession(config=config)\n",
    "K.set_session(session)\n",
    "\n",
    "tensorflow.__version__"
   ]
  },
  {
   "cell_type": "code",
   "execution_count": 6,
   "metadata": {},
   "outputs": [],
   "source": [
    "multiple_gpus = [0,1,2,3]\n",
    "#multiple_gpus = None"
   ]
  },
  {
   "cell_type": "code",
   "execution_count": 7,
   "metadata": {},
   "outputs": [
    {
     "name": "stdout",
     "output_type": "stream",
     "text": [
      "Num GPUs Available:  4\n",
      "INFO:tensorflow:Using MirroredStrategy with devices ('/job:localhost/replica:0/task:0/device:GPU:0', '/job:localhost/replica:0/task:0/device:GPU:1', '/job:localhost/replica:0/task:0/device:GPU:2', '/job:localhost/replica:0/task:0/device:GPU:3')\n"
     ]
    }
   ],
   "source": [
    "import os\n",
    "import tensorflow as tf\n",
    "print(\"Num GPUs Available: \", len(tf.config.experimental.list_physical_devices('GPU')))\n",
    "\n",
    "if multiple_gpus:\n",
    "    devices = []\n",
    "    for gpu in multiple_gpus:\n",
    "        devices.append('/gpu:' + str(gpu))    \n",
    "    strategy = tensorflow.distribute.MirroredStrategy(devices=devices)\n",
    "\n",
    "else:\n",
    "    # Get the GPU device name.\n",
    "    device_name = tensorflow.test.gpu_device_name()\n",
    "    # The device name should look like the following:\n",
    "    if device_name == '/device:GPU:0':\n",
    "        print('Using GPU: {}'.format(device_name))\n",
    "    else:\n",
    "        raise SystemError('GPU device not found')\n",
    "\n",
    "    os.environ[\"CUDA_VISIBLE_DEVICES\"] = device_name\n",
    "    os.environ[\"CUDA_DEVICE_ORDER\"] = \"PCI_BUS_ID\""
   ]
  },
  {
   "cell_type": "code",
   "execution_count": 8,
   "metadata": {},
   "outputs": [
    {
     "name": "stderr",
     "output_type": "stream",
     "text": [
      "[nltk_data] Downloading package stopwords to /home/malves/nltk_data...\n",
      "[nltk_data]   Package stopwords is already up-to-date!\n",
      "[nltk_data] Downloading package wordnet to /home/malves/nltk_data...\n",
      "[nltk_data]   Package wordnet is already up-to-date!\n",
      "[nltk_data] Downloading package punkt to /home/malves/nltk_data...\n",
      "[nltk_data]   Package punkt is already up-to-date!\n"
     ]
    }
   ],
   "source": [
    "from wrappers.bioc_wrapper import bioc_to_docs, bioc_to_relevances\n",
    "from wrappers.pandas_wrapper import relevances_to_pandas, docs_to_pandasdocs\n",
    "from preprocessing.dl import DL_preprocessing\n",
    "from mlearning.dl_models import Burns_CNNBiLSTM\n",
    "from preprocessing.embeddings import compute_embedding_matrix, glove_embeddings_2\n",
    "import numpy as np\n",
    "from sklearn.metrics import accuracy_score\n",
    "from sklearn.metrics import precision_score\n",
    "from sklearn.metrics import recall_score\n",
    "from sklearn.metrics import f1_score, matthews_corrcoef\n",
    "from sklearn.metrics import cohen_kappa_score\n",
    "from sklearn.metrics import roc_auc_score, auc, roc_curve, precision_recall_curve\n",
    "from sklearn.metrics import confusion_matrix\n",
    "from tensorflow.keras.callbacks import EarlyStopping, ModelCheckpoint\n",
    "from tensorflow.keras.models import load_model\n",
    "from preprocessing.dl import plot_training_history\n",
    "from preprocessing.config import Config\n",
    "from preprocessing.dl import average_precision\n",
    "from tensorflow.keras.preprocessing import text\n",
    "from preprocessing.dl import plot_roc_n_pr_curves\n",
    "import nltk\n",
    "nltk.download('stopwords')\n",
    "nltk.download('wordnet')\n",
    "nltk.download('punkt')\n",
    "from nltk.corpus import stopwords\n",
    "import seaborn as sns\n",
    "import pandas as pd\n",
    "import os\n",
    "from keras import backend as K\n",
    "import pickle"
   ]
  },
  {
   "cell_type": "code",
   "execution_count": 9,
   "metadata": {},
   "outputs": [],
   "source": [
    "train_dataset_path = '../datasets/PMtask_Triage_TrainingSet.xml'\n",
    "test_dataset_path = '../datasets/PMtask_Triage_TestSet.xml'"
   ]
  },
  {
   "cell_type": "markdown",
   "metadata": {},
   "source": [
    "## Load Data"
   ]
  },
  {
   "cell_type": "code",
   "execution_count": 205,
   "metadata": {
    "scrolled": true
   },
   "outputs": [],
   "source": [
    "config = Config(model_name=model_name, seed_value=seed_value)\n",
    "config.stop_words = set(stopwords.words('english'))           \n",
    "#config.stop_words = None\n",
    "config.lower = False               \n",
    "config.remove_punctuation = False\n",
    "config.split_by_hyphen = False\n",
    "config.lemmatization = False           \n",
    "config.stems = True                      \n",
    "\n",
    "\n",
    "docs_train = bioc_to_docs(train_dataset_path, config=config)\n",
    "relevances_train = bioc_to_relevances(train_dataset_path, 'protein-protein')\n",
    "\n",
    "\n",
    "x_train_df = docs_to_pandasdocs(docs_train)\n",
    "y_train_df = relevances_to_pandas(x_train_df, relevances_train)"
   ]
  },
  {
   "cell_type": "code",
   "execution_count": 206,
   "metadata": {
    "scrolled": true
   },
   "outputs": [
    {
     "data": {
      "text/html": [
       "<div>\n",
       "<style scoped>\n",
       "    .dataframe tbody tr th:only-of-type {\n",
       "        vertical-align: middle;\n",
       "    }\n",
       "\n",
       "    .dataframe tbody tr th {\n",
       "        vertical-align: top;\n",
       "    }\n",
       "\n",
       "    .dataframe thead th {\n",
       "        text-align: right;\n",
       "    }\n",
       "</style>\n",
       "<table border=\"1\" class=\"dataframe\">\n",
       "  <thead>\n",
       "    <tr style=\"text-align: right;\">\n",
       "      <th></th>\n",
       "      <th>Document</th>\n",
       "    </tr>\n",
       "  </thead>\n",
       "  <tbody>\n",
       "    <tr>\n",
       "      <th>9685346</th>\n",
       "      <td>&lt;data_structures.document.Document object at 0...</td>\n",
       "    </tr>\n",
       "    <tr>\n",
       "      <th>10364224</th>\n",
       "      <td>&lt;data_structures.document.Document object at 0...</td>\n",
       "    </tr>\n",
       "    <tr>\n",
       "      <th>10688642</th>\n",
       "      <td>&lt;data_structures.document.Document object at 0...</td>\n",
       "    </tr>\n",
       "    <tr>\n",
       "      <th>12059041</th>\n",
       "      <td>&lt;data_structures.document.Document object at 0...</td>\n",
       "    </tr>\n",
       "    <tr>\n",
       "      <th>12897151</th>\n",
       "      <td>&lt;data_structures.document.Document object at 0...</td>\n",
       "    </tr>\n",
       "    <tr>\n",
       "      <th>...</th>\n",
       "      <td>...</td>\n",
       "    </tr>\n",
       "    <tr>\n",
       "      <th>22521144</th>\n",
       "      <td>&lt;data_structures.document.Document object at 0...</td>\n",
       "    </tr>\n",
       "    <tr>\n",
       "      <th>25759389</th>\n",
       "      <td>&lt;data_structures.document.Document object at 0...</td>\n",
       "    </tr>\n",
       "    <tr>\n",
       "      <th>19887646</th>\n",
       "      <td>&lt;data_structures.document.Document object at 0...</td>\n",
       "    </tr>\n",
       "    <tr>\n",
       "      <th>23486661</th>\n",
       "      <td>&lt;data_structures.document.Document object at 0...</td>\n",
       "    </tr>\n",
       "    <tr>\n",
       "      <th>22992732</th>\n",
       "      <td>&lt;data_structures.document.Document object at 0...</td>\n",
       "    </tr>\n",
       "  </tbody>\n",
       "</table>\n",
       "<p>4082 rows × 1 columns</p>\n",
       "</div>"
      ],
      "text/plain": [
       "                                                   Document\n",
       "9685346   <data_structures.document.Document object at 0...\n",
       "10364224  <data_structures.document.Document object at 0...\n",
       "10688642  <data_structures.document.Document object at 0...\n",
       "12059041  <data_structures.document.Document object at 0...\n",
       "12897151  <data_structures.document.Document object at 0...\n",
       "...                                                     ...\n",
       "22521144  <data_structures.document.Document object at 0...\n",
       "25759389  <data_structures.document.Document object at 0...\n",
       "19887646  <data_structures.document.Document object at 0...\n",
       "23486661  <data_structures.document.Document object at 0...\n",
       "22992732  <data_structures.document.Document object at 0...\n",
       "\n",
       "[4082 rows x 1 columns]"
      ]
     },
     "execution_count": 206,
     "metadata": {},
     "output_type": "execute_result"
    }
   ],
   "source": [
    "x_train_df"
   ]
  },
  {
   "cell_type": "code",
   "execution_count": 207,
   "metadata": {
    "scrolled": true
   },
   "outputs": [
    {
     "data": {
      "text/plain": [
       "9685346     0\n",
       "10364224    0\n",
       "10688642    0\n",
       "12059041    0\n",
       "12897151    0\n",
       "           ..\n",
       "22521144    1\n",
       "25759389    1\n",
       "19887646    1\n",
       "23486661    1\n",
       "22992732    1\n",
       "Name: Label, Length: 4082, dtype: int64"
      ]
     },
     "execution_count": 207,
     "metadata": {},
     "output_type": "execute_result"
    }
   ],
   "source": [
    "y_train_df"
   ]
  },
  {
   "cell_type": "code",
   "execution_count": 208,
   "metadata": {},
   "outputs": [
    {
     "data": {
      "text/plain": [
       "'molecular basi rieger syndrom . analysi pitx2 homeodomain protein activ . rieger syndrom autosomal-domin development disord includ glaucoma mild craniofaci dysmorph human .'"
      ]
     },
     "execution_count": 208,
     "metadata": {},
     "output_type": "execute_result"
    }
   ],
   "source": [
    "x_train_df['Document'][0].title_string"
   ]
  },
  {
   "cell_type": "code",
   "execution_count": 209,
   "metadata": {
    "scrolled": true
   },
   "outputs": [
    {
     "data": {
      "text/plain": [
       "'mutat pitx2 homeobox gene link rieger syndrom . character wild type mutant pitx2 activ use electrophoret mobil shift assay , protein bind , transient transfect assay . pitx2 preferenti bind bicoid homeodomain bind site transactiv report gene contain site . combin pitx2 anoth homeodomain protein , pit-1 , yield synergist 55-fold activ prolactin promot transfect assay . addit pit-1 increas pitx2 bind bicoid element electrophoret mobil shift assay . furthermor , demonstr specif bind pit-1 pitx2 vitro . thu , wild type pitx2 dna bind activ modul protein-protein interact . next studi two rieger mutant . threonin prolin mutat ( t68p ) second helix homeodomain retain dna bind activ appar KD 2-fold reduct bmax . howev , mutant transactiv report gene contain bicoid site . mutant pitx2 protein bind pit-1 , detect synerg prolactin promot . second mutat ( l54q ) highli conserv residu helix 1 homeodomain yield unstabl protein . result provid insight potenti mechan underli development defect rieger syndrom .'"
      ]
     },
     "execution_count": 209,
     "metadata": {},
     "output_type": "execute_result"
    }
   ],
   "source": [
    "x_train_df['Document'][0].abstract_string"
   ]
  },
  {
   "cell_type": "markdown",
   "metadata": {},
   "source": [
    "### Embeddings and Deep Learning"
   ]
  },
  {
   "cell_type": "code",
   "execution_count": 210,
   "metadata": {},
   "outputs": [],
   "source": [
    "#Parameters\n",
    "config.padding = 'post'            #'pre' -> default; 'post' -> alternative\n",
    "config.truncating = 'post'         #'pre' -> default; 'post' -> alternative      #####\n",
    "config.oov_token = 'OOV'\n",
    "\n",
    "config.epochs = 50\n",
    "config.batch_size = 32     # e aumentar o batch\n",
    "config.learning_rate =  0.0001   #experimentar diminuir\n",
    "\n",
    "config.max_sent_len = 300     #sentences will have a maximum of \"max_sent_len\" words    #400/500\n",
    "config.max_nb_words = 100_000      #it will only be considered the top \"max_nb_words\" words in the dataset\n",
    "\n",
    "config.embeddings = 'biowordvec'\n",
    "\n",
    "config.validation_percentage = 10\n",
    "\n",
    "if not os.path.isdir('./embeddings'):\n",
    "    !mkdir embeddings\n",
    "\n",
    "if config.embeddings == 'glove':\n",
    "    if not os.path.isfile('./embeddings/glove.6B.zip'):\n",
    "        # !wget -P ./embeddings http://nlp.stanford.edu/data/glove.6B.zip\n",
    "        !unzip  ./embeddings/glove.6B.zip  -d ./embeddings\n",
    "    config.embedding_path = './embeddings/glove.6B.200d.txt'\n",
    "    config.embedding_dim = 200\n",
    "    config.embedding_format = 'glove'\n",
    "\n",
    "elif config.embeddings == 'biowordvec':   #200 dimensions\n",
    "    if not os.path.isfile('./embeddings/biowordvec'):\n",
    "        !wget -O ./embeddings/biowordvec https://ndownloader.figshare.com/files/12551780\n",
    "    config.embedding_path = './embeddings/biowordvec'\n",
    "    config.embedding_dim = 200\n",
    "    config.embedding_format = 'word2vec'\n",
    "\n",
    "elif config.embeddings == 'pubmed_pmc':   #200 dimensions\n",
    "    if not os.path.isfile('./embeddings/pubmed_pmc.bin'):\n",
    "        !wget -O ./embeddings/pubmed_pmc.bin http://evexdb.org/pmresources/vec-space-models/PubMed-and-PMC-w2v.bin\n",
    "    config.embedding_path = './embeddings/pubmed_pmc.bin'\n",
    "    config.embedding_dim = 200\n",
    "    config.embedding_format = 'word2vec'\n",
    "\n",
    "elif config.embeddings == 'pubmed_ncbi':   #100 dimensions\n",
    "    if not os.path.isfile('./embeddings/pubmed_ncbi.bin.gz'):\n",
    "        !wget -O ./embeddings/pubmed_ncbi.bin.gz ftp://ftp.ncbi.nlm.nih.gov/pub/wilbur/EMBED/pubmed_s100w10_min.bin.gz\n",
    "    config.embedding_path = './embeddings/pubmed_ncbi.bin.gz'\n",
    "    config.embedding_dim = 100\n",
    "    config.embedding_format = 'word2vec'    \n",
    "\n",
    "else: \n",
    "    raise Exception(\"Please Insert Embeddings Type\")"
   ]
  },
  {
   "cell_type": "markdown",
   "metadata": {},
   "source": [
    "### Keras Callbacks"
   ]
  },
  {
   "cell_type": "code",
   "execution_count": 211,
   "metadata": {},
   "outputs": [],
   "source": [
    "config.keras_callbacks = True\n",
    "\n",
    "if config.keras_callbacks:\n",
    "    config.patience = 5   #early-stopping patience\n",
    "    checkpoint_path = str(config.model_id_path) + '/checkpoint.hdf5'\n",
    "    keras_callbacks = [\n",
    "            EarlyStopping(monitor='val_loss', mode='min', verbose=1, patience=config.patience),\n",
    "            ModelCheckpoint(checkpoint_path, monitor='val_loss', mode='min', verbose=1, save_best_only=True)\n",
    "    ]\n",
    "else:\n",
    "    keras_callbacks=None"
   ]
  },
  {
   "cell_type": "code",
   "execution_count": 212,
   "metadata": {},
   "outputs": [
    {
     "name": "stdout",
     "output_type": "stream",
     "text": [
      "molecular basi rieger syndrom . analysi pitx2 homeodomain protein activ . rieger syndrom autosomal-domin development disord includ glaucoma mild craniofaci dysmorph human . mutat pitx2 homeobox gene link rieger syndrom . character wild type mutant pitx2 activ use electrophoret mobil shift assay , protein bind , transient transfect assay . pitx2 preferenti bind bicoid homeodomain bind site transactiv report gene contain site . combin pitx2 anoth homeodomain protein , pit-1 , yield synergist 55-fold activ prolactin promot transfect assay . addit pit-1 increas pitx2 bind bicoid element electrophoret mobil shift assay . furthermor , demonstr specif bind pit-1 pitx2 vitro . thu , wild type pitx2 dna bind activ modul protein-protein interact . next studi two rieger mutant . threonin prolin mutat ( t68p ) second helix homeodomain retain dna bind activ appar KD 2-fold reduct bmax . howev , mutant transactiv report gene contain bicoid site . mutant pitx2 protein bind pit-1 , detect synerg prolactin promot . second mutat ( l54q ) highli conserv residu helix 1 homeodomain yield unstabl protein . result provid insight potenti mechan underli development defect rieger syndrom .\n",
      "0 :  molecular\n",
      "1 :  basi\n",
      "2 :  rieger\n",
      "3 :  syndrom\n",
      "4 :  .\n",
      "5 :  analysi\n",
      "6 :  pitx2\n",
      "7 :  homeodomain\n",
      "8 :  protein\n",
      "9 :  activ\n",
      "10 :  .\n",
      "11 :  rieger\n",
      "12 :  syndrom\n",
      "13 :  autosomal-domin\n",
      "14 :  development\n",
      "15 :  disord\n",
      "16 :  includ\n",
      "17 :  glaucoma\n",
      "18 :  mild\n",
      "19 :  craniofaci\n",
      "20 :  dysmorph\n",
      "21 :  human\n",
      "22 :  .\n",
      "23 :  mutat\n",
      "24 :  pitx2\n",
      "25 :  homeobox\n",
      "26 :  gene\n",
      "27 :  link\n",
      "28 :  rieger\n",
      "29 :  syndrom\n",
      "30 :  .\n",
      "31 :  character\n",
      "32 :  wild\n",
      "33 :  type\n",
      "34 :  mutant\n",
      "35 :  pitx2\n",
      "36 :  activ\n",
      "37 :  use\n",
      "38 :  electrophoret\n",
      "39 :  mobil\n",
      "40 :  shift\n",
      "41 :  assay\n",
      "42 :  ,\n",
      "43 :  protein\n",
      "44 :  bind\n",
      "45 :  ,\n",
      "46 :  transient\n",
      "47 :  transfect\n",
      "48 :  assay\n",
      "49 :  .\n",
      "50 :  pitx2\n",
      "51 :  preferenti\n",
      "52 :  bind\n",
      "53 :  bicoid\n",
      "54 :  homeodomain\n",
      "55 :  bind\n",
      "56 :  site\n",
      "57 :  transactiv\n",
      "58 :  report\n",
      "59 :  gene\n",
      "60 :  contain\n",
      "61 :  site\n",
      "62 :  .\n",
      "63 :  combin\n",
      "64 :  pitx2\n",
      "65 :  anoth\n",
      "66 :  homeodomain\n",
      "67 :  protein\n",
      "68 :  ,\n",
      "69 :  pit-1\n",
      "70 :  ,\n",
      "71 :  yield\n",
      "72 :  synergist\n",
      "73 :  55-fold\n",
      "74 :  activ\n",
      "75 :  prolactin\n",
      "76 :  promot\n",
      "77 :  transfect\n",
      "78 :  assay\n",
      "79 :  .\n",
      "80 :  addit\n",
      "81 :  pit-1\n",
      "82 :  increas\n",
      "83 :  pitx2\n",
      "84 :  bind\n",
      "85 :  bicoid\n",
      "86 :  element\n",
      "87 :  electrophoret\n",
      "88 :  mobil\n",
      "89 :  shift\n",
      "90 :  assay\n",
      "91 :  .\n",
      "92 :  furthermor\n",
      "93 :  ,\n",
      "94 :  demonstr\n",
      "95 :  specif\n",
      "96 :  bind\n",
      "97 :  pit-1\n",
      "98 :  pitx2\n",
      "99 :  vitro\n",
      "100 :  .\n",
      "101 :  thu\n",
      "102 :  ,\n",
      "103 :  wild\n",
      "104 :  type\n",
      "105 :  pitx2\n",
      "106 :  dna\n",
      "107 :  bind\n",
      "108 :  activ\n",
      "109 :  modul\n",
      "110 :  protein-protein\n",
      "111 :  interact\n",
      "112 :  .\n",
      "113 :  next\n",
      "114 :  studi\n",
      "115 :  two\n",
      "116 :  rieger\n",
      "117 :  mutant\n",
      "118 :  .\n",
      "119 :  threonin\n",
      "120 :  prolin\n",
      "121 :  mutat\n",
      "122 :  (\n",
      "123 :  t68p\n",
      "124 :  )\n",
      "125 :  second\n",
      "126 :  helix\n",
      "127 :  homeodomain\n",
      "128 :  retain\n",
      "129 :  dna\n",
      "130 :  bind\n",
      "131 :  activ\n",
      "132 :  appar\n",
      "133 :  KD\n",
      "134 :  2-fold\n",
      "135 :  reduct\n",
      "136 :  bmax\n",
      "137 :  .\n",
      "138 :  howev\n",
      "139 :  ,\n",
      "140 :  mutant\n",
      "141 :  transactiv\n",
      "142 :  report\n",
      "143 :  gene\n",
      "144 :  contain\n",
      "145 :  bicoid\n",
      "146 :  site\n",
      "147 :  .\n",
      "148 :  mutant\n",
      "149 :  pitx2\n",
      "150 :  protein\n",
      "151 :  bind\n",
      "152 :  pit-1\n",
      "153 :  ,\n",
      "154 :  detect\n",
      "155 :  synerg\n",
      "156 :  prolactin\n",
      "157 :  promot\n",
      "158 :  .\n",
      "159 :  second\n",
      "160 :  mutat\n",
      "161 :  (\n",
      "162 :  l54q\n",
      "163 :  )\n",
      "164 :  highli\n",
      "165 :  conserv\n",
      "166 :  residu\n",
      "167 :  helix\n",
      "168 :  1\n",
      "169 :  homeodomain\n",
      "170 :  yield\n",
      "171 :  unstabl\n",
      "172 :  protein\n",
      "173 :  .\n",
      "174 :  result\n",
      "175 :  provid\n",
      "176 :  insight\n",
      "177 :  potenti\n",
      "178 :  mechan\n",
      "179 :  underli\n",
      "180 :  development\n",
      "181 :  defect\n",
      "182 :  rieger\n",
      "183 :  syndrom\n",
      "184 :  .\n"
     ]
    }
   ],
   "source": [
    "#Preprocessing for Training Data\n",
    "\n",
    "config.tokenizer = text.Tokenizer(num_words=config.max_nb_words, oov_token=config.oov_token)\n",
    "\n",
    "print(x_train_df['Document'][0].fulltext_string)\n",
    "for i, tok in enumerate(x_train_df['Document'][0].fulltext_tokens):\n",
    "    print(i, ': ', tok)"
   ]
  },
  {
   "cell_type": "code",
   "execution_count": 213,
   "metadata": {},
   "outputs": [
    {
     "name": "stdout",
     "output_type": "stream",
     "text": [
      "Found 25373 unique tokens.\n",
      "Training set with 3674 samples\n",
      "Validation set with 408 samples\n"
     ]
    }
   ],
   "source": [
    "x_train, y_train, x_val, y_val = DL_preprocessing(x_train_df, y_train_df, \n",
    "                                                  config, dataset='train',\n",
    "                                                  validation_percentage = config.validation_percentage, \n",
    "                                                  seed_value=config.seed_value)"
   ]
  },
  {
   "cell_type": "code",
   "execution_count": 214,
   "metadata": {},
   "outputs": [
    {
     "data": {
      "text/plain": [
       "(3674, 300)"
      ]
     },
     "execution_count": 214,
     "metadata": {},
     "output_type": "execute_result"
    }
   ],
   "source": [
    "x_train.shape"
   ]
  },
  {
   "cell_type": "code",
   "execution_count": 215,
   "metadata": {},
   "outputs": [
    {
     "data": {
      "text/plain": [
       "array([[1500, 3036,    4, ...,    0,    0,    0],\n",
       "       [ 269,  947, 1611, ...,    0,    0,    0],\n",
       "       [ 103,   10,   32, ...,    0,    0,    0],\n",
       "       ...,\n",
       "       [2142,   53,   65, ...,    0,    0,    0],\n",
       "       [ 656,   21, 1900, ...,    0,    0,    0],\n",
       "       [  27,  153,    5, ...,    0,    0,    0]], dtype=int32)"
      ]
     },
     "execution_count": 215,
     "metadata": {},
     "output_type": "execute_result"
    }
   ],
   "source": [
    "x_train"
   ]
  },
  {
   "cell_type": "code",
   "execution_count": 216,
   "metadata": {
    "scrolled": false
   },
   "outputs": [
    {
     "name": "stdout",
     "output_type": "stream",
     "text": [
      "Creating Embedding Matrix...\n",
      "Embedding Matrix Created \n",
      "------------------------\n",
      "number of null word embeddings: 6091 in a total of 25373 words (24.01%)\n",
      "words not found: 6090\n",
      "e.g. 10 words not found in the index :  ['cockayn' 'provok' 'daytim' 'oddli' 'overaccumul' '7259673' 'ρ'\n",
      " 'unschedul' 'pof3delta' 'umbil' 'camkiiα' 'lrp5pd2' 'fibrot' 'azotobact'\n",
      " 'guarante']\n"
     ]
    }
   ],
   "source": [
    "config.embedding_matrix = compute_embedding_matrix(config, embeddings_format = config.embedding_format)"
   ]
  },
  {
   "cell_type": "code",
   "execution_count": 139,
   "metadata": {},
   "outputs": [
    {
     "name": "stdout",
     "output_type": "stream",
     "text": [
      "Dimension of the word embedding for the word 'protein':  200\n",
      "Index for the word 'protein':  2\n"
     ]
    }
   ],
   "source": [
    "protein_index = config.tokenizer.word_index['protein']\n",
    "print(\"Dimension of the word embedding for the word 'protein': \", len(config.embedding_matrix[protein_index]))\n",
    "print(\"Index for the word 'protein': \", protein_index)"
   ]
  },
  {
   "cell_type": "code",
   "execution_count": 100,
   "metadata": {},
   "outputs": [],
   "source": [
    "# with open('saved_config.pkl', 'rb') as fp:\n",
    "#     config = pickle.load(fp)\n",
    "\n",
    "# with open('saved_data.pkl', 'rb') as fp:\n",
    "#     data = pickle.load(fp)\n",
    "# x_train, y_train, x_val, y_val = data[0], data[1], data[2], data[3]"
   ]
  },
  {
   "cell_type": "code",
   "execution_count": 23,
   "metadata": {},
   "outputs": [
    {
     "data": {
      "text/plain": [
       "30021"
      ]
     },
     "execution_count": 23,
     "metadata": {},
     "output_type": "execute_result"
    }
   ],
   "source": [
    "config.embedding_matrix.shape[0]"
   ]
  },
  {
   "cell_type": "code",
   "execution_count": 24,
   "metadata": {},
   "outputs": [
    {
     "data": {
      "text/plain": [
       "30020"
      ]
     },
     "execution_count": 24,
     "metadata": {},
     "output_type": "execute_result"
    }
   ],
   "source": [
    "len(config.tokenizer.word_index)"
   ]
  },
  {
   "cell_type": "code",
   "execution_count": 25,
   "metadata": {
    "scrolled": true
   },
   "outputs": [
    {
     "name": "stdout",
     "output_type": "stream",
     "text": [
      "Model: \"model\"\n",
      "__________________________________________________________________________________________________\n",
      "Layer (type)                    Output Shape         Param #     Connected to                     \n",
      "==================================================================================================\n",
      "input_1 (InputLayer)            [(None, 300)]        0                                            \n",
      "__________________________________________________________________________________________________\n",
      "embedding (Embedding)           (None, 300, 200)     6004200     input_1[0][0]                    \n",
      "__________________________________________________________________________________________________\n",
      "dropout (Dropout)               (None, 300, 200)     0           embedding[0][0]                  \n",
      "__________________________________________________________________________________________________\n",
      "conv1d (Conv1D)                 (None, 300, 16)      16016       dropout[0][0]                    \n",
      "__________________________________________________________________________________________________\n",
      "max_pooling1d (MaxPooling1D)    (None, 75, 16)       0           conv1d[0][0]                     \n",
      "__________________________________________________________________________________________________\n",
      "conv1d_1 (Conv1D)               (None, 75, 16)       1296        max_pooling1d[0][0]              \n",
      "__________________________________________________________________________________________________\n",
      "dropout_1 (Dropout)             (None, 75, 16)       0           conv1d_1[0][0]                   \n",
      "__________________________________________________________________________________________________\n",
      "bidirectional (Bidirectional)   (None, 128)          41472       dropout_1[0][0]                  \n",
      "__________________________________________________________________________________________________\n",
      "dropout_2 (Dropout)             (None, 128)          0           bidirectional[0][0]              \n",
      "__________________________________________________________________________________________________\n",
      "dense (Dense)                   (None, 1)            129         dropout_2[0][0]                  \n",
      "__________________________________________________________________________________________________\n",
      "flatten (Flatten)               (None, 1)            0           dense[0][0]                      \n",
      "__________________________________________________________________________________________________\n",
      "activation_10 (Activation)      (None, 1)            0           flatten[0][0]                    \n",
      "__________________________________________________________________________________________________\n",
      "repeat_vector (RepeatVector)    (None, 128, 1)       0           activation_10[0][0]              \n",
      "__________________________________________________________________________________________________\n",
      "permute (Permute)               (None, 1, 128)       0           repeat_vector[0][0]              \n",
      "__________________________________________________________________________________________________\n",
      "multiply (Multiply)             (None, 1, 128)       0           dropout_2[0][0]                  \n",
      "                                                                 permute[0][0]                    \n",
      "__________________________________________________________________________________________________\n",
      "lambda (Lambda)                 (None, 128)          0           multiply[0][0]                   \n",
      "__________________________________________________________________________________________________\n",
      "dense_1 (Dense)                 (None, 1)            129         lambda[0][0]                     \n",
      "==================================================================================================\n",
      "Total params: 6,063,242\n",
      "Trainable params: 59,042\n",
      "Non-trainable params: 6,004,200\n",
      "__________________________________________________________________________________________________\n"
     ]
    }
   ],
   "source": [
    "#model = Hierarchical_Attention_v3(embedding_matrix, config, seed_value=seed_value)  #=> Best Results until now\n",
    "if multiple_gpus:\n",
    "    with strategy.scope():\n",
    "        model = Burns_CNNBiLSTM(config.embedding_matrix, config, learning_rate=config.learning_rate,\n",
    "                                               seed_value=config.seed_value) \n",
    "else:\n",
    "    model = Burns_CNNBiLSTM(config.embedding_matrix, config, learning_rate=config.learning_rate,\n",
    "                                                seed_value=config.seed_value) \n",
    "    "
   ]
  },
  {
   "cell_type": "code",
   "execution_count": 26,
   "metadata": {},
   "outputs": [
    {
     "name": "stdout",
     "output_type": "stream",
     "text": [
      "Epoch 1/50\n",
      "INFO:tensorflow:batch_all_reduce: 14 all-reduces with algorithm = nccl, num_packs = 1\n",
      "INFO:tensorflow:Reduce to /job:localhost/replica:0/task:0/device:CPU:0 then broadcast to ('/job:localhost/replica:0/task:0/device:CPU:0',).\n",
      "INFO:tensorflow:Reduce to /job:localhost/replica:0/task:0/device:CPU:0 then broadcast to ('/job:localhost/replica:0/task:0/device:CPU:0',).\n",
      "INFO:tensorflow:Reduce to /job:localhost/replica:0/task:0/device:CPU:0 then broadcast to ('/job:localhost/replica:0/task:0/device:CPU:0',).\n",
      "INFO:tensorflow:Reduce to /job:localhost/replica:0/task:0/device:CPU:0 then broadcast to ('/job:localhost/replica:0/task:0/device:CPU:0',).\n",
      "INFO:tensorflow:batch_all_reduce: 14 all-reduces with algorithm = nccl, num_packs = 1\n",
      "INFO:tensorflow:Reduce to /job:localhost/replica:0/task:0/device:CPU:0 then broadcast to ('/job:localhost/replica:0/task:0/device:CPU:0',).\n",
      "INFO:tensorflow:Reduce to /job:localhost/replica:0/task:0/device:CPU:0 then broadcast to ('/job:localhost/replica:0/task:0/device:CPU:0',).\n",
      "INFO:tensorflow:Reduce to /job:localhost/replica:0/task:0/device:CPU:0 then broadcast to ('/job:localhost/replica:0/task:0/device:CPU:0',).\n",
      "INFO:tensorflow:Reduce to /job:localhost/replica:0/task:0/device:CPU:0 then broadcast to ('/job:localhost/replica:0/task:0/device:CPU:0',).\n",
      "115/115 [==============================] - ETA: 0s - accuracy: 0.5645 - loss: 0.6888INFO:tensorflow:Reduce to /job:localhost/replica:0/task:0/device:CPU:0 then broadcast to ('/job:localhost/replica:0/task:0/device:CPU:0',).\n",
      "INFO:tensorflow:Reduce to /job:localhost/replica:0/task:0/device:CPU:0 then broadcast to ('/job:localhost/replica:0/task:0/device:CPU:0',).\n",
      "\n",
      "Epoch 00001: val_loss improved from inf to 0.68516, saving model to ../pipelines/models/Burns_CNNBiLSTM/Burns_CNNBiLSTM_22/checkpoint.hdf5\n",
      "115/115 [==============================] - 66s 577ms/step - accuracy: 0.5645 - loss: 0.6888 - val_accuracy: 0.5711 - val_loss: 0.6852\n",
      "Epoch 2/50\n",
      "111/115 [===========================>..] - ETA: 0s - accuracy: 0.5836 - loss: 0.6800\n",
      "Epoch 00002: val_loss improved from 0.68516 to 0.67391, saving model to ../pipelines/models/Burns_CNNBiLSTM/Burns_CNNBiLSTM_22/checkpoint.hdf5\n",
      "115/115 [==============================] - 2s 14ms/step - accuracy: 0.5825 - loss: 0.6800 - val_accuracy: 0.5858 - val_loss: 0.6739\n",
      "Epoch 3/50\n",
      "113/115 [============================>.] - ETA: 0s - accuracy: 0.6073 - loss: 0.6659\n",
      "Epoch 00003: val_loss improved from 0.67391 to 0.66126, saving model to ../pipelines/models/Burns_CNNBiLSTM/Burns_CNNBiLSTM_22/checkpoint.hdf5\n",
      "115/115 [==============================] - 2s 13ms/step - accuracy: 0.6051 - loss: 0.6666 - val_accuracy: 0.5833 - val_loss: 0.6613\n",
      "Epoch 4/50\n",
      "115/115 [==============================] - ETA: 0s - accuracy: 0.6097 - loss: 0.6576\n",
      "Epoch 00004: val_loss improved from 0.66126 to 0.63957, saving model to ../pipelines/models/Burns_CNNBiLSTM/Burns_CNNBiLSTM_22/checkpoint.hdf5\n",
      "115/115 [==============================] - 2s 14ms/step - accuracy: 0.6097 - loss: 0.6576 - val_accuracy: 0.6176 - val_loss: 0.6396\n",
      "Epoch 5/50\n",
      "111/115 [===========================>..] - ETA: 0s - accuracy: 0.6306 - loss: 0.6414\n",
      "Epoch 00005: val_loss improved from 0.63957 to 0.61936, saving model to ../pipelines/models/Burns_CNNBiLSTM/Burns_CNNBiLSTM_22/checkpoint.hdf5\n",
      "115/115 [==============================] - 2s 14ms/step - accuracy: 0.6301 - loss: 0.6417 - val_accuracy: 0.6618 - val_loss: 0.6194\n",
      "Epoch 6/50\n",
      "113/115 [============================>.] - ETA: 0s - accuracy: 0.6502 - loss: 0.6270\n",
      "Epoch 00006: val_loss did not improve from 0.61936\n",
      "115/115 [==============================] - 1s 12ms/step - accuracy: 0.6500 - loss: 0.6268 - val_accuracy: 0.6789 - val_loss: 0.6196\n",
      "Epoch 7/50\n",
      "112/115 [============================>.] - ETA: 0s - accuracy: 0.6482 - loss: 0.6226\n",
      "Epoch 00007: val_loss improved from 0.61936 to 0.59376, saving model to ../pipelines/models/Burns_CNNBiLSTM/Burns_CNNBiLSTM_22/checkpoint.hdf5\n",
      "115/115 [==============================] - 2s 14ms/step - accuracy: 0.6486 - loss: 0.6216 - val_accuracy: 0.6887 - val_loss: 0.5938\n",
      "Epoch 8/50\n",
      "111/115 [===========================>..] - ETA: 0s - accuracy: 0.6706 - loss: 0.6120\n",
      "Epoch 00008: val_loss improved from 0.59376 to 0.59024, saving model to ../pipelines/models/Burns_CNNBiLSTM/Burns_CNNBiLSTM_22/checkpoint.hdf5\n",
      "115/115 [==============================] - 2s 14ms/step - accuracy: 0.6704 - loss: 0.6121 - val_accuracy: 0.6887 - val_loss: 0.5902\n",
      "Epoch 9/50\n",
      "112/115 [============================>.] - ETA: 0s - accuracy: 0.6775 - loss: 0.6043\n",
      "Epoch 00009: val_loss did not improve from 0.59024\n",
      "115/115 [==============================] - 1s 12ms/step - accuracy: 0.6775 - loss: 0.6042 - val_accuracy: 0.6691 - val_loss: 0.5993\n",
      "Epoch 10/50\n",
      "115/115 [==============================] - ETA: 0s - accuracy: 0.6908 - loss: 0.5992\n",
      "Epoch 00010: val_loss improved from 0.59024 to 0.58399, saving model to ../pipelines/models/Burns_CNNBiLSTM/Burns_CNNBiLSTM_22/checkpoint.hdf5\n",
      "115/115 [==============================] - 2s 14ms/step - accuracy: 0.6908 - loss: 0.5992 - val_accuracy: 0.6936 - val_loss: 0.5840\n",
      "Epoch 11/50\n",
      "111/115 [===========================>..] - ETA: 0s - accuracy: 0.6872 - loss: 0.5991\n",
      "Epoch 00011: val_loss improved from 0.58399 to 0.58340, saving model to ../pipelines/models/Burns_CNNBiLSTM/Burns_CNNBiLSTM_22/checkpoint.hdf5\n",
      "115/115 [==============================] - 2s 14ms/step - accuracy: 0.6870 - loss: 0.5986 - val_accuracy: 0.7034 - val_loss: 0.5834\n",
      "Epoch 12/50\n",
      "112/115 [============================>.] - ETA: 0s - accuracy: 0.6855 - loss: 0.5925\n",
      "Epoch 00012: val_loss improved from 0.58340 to 0.58247, saving model to ../pipelines/models/Burns_CNNBiLSTM/Burns_CNNBiLSTM_22/checkpoint.hdf5\n",
      "115/115 [==============================] - 2s 14ms/step - accuracy: 0.6864 - loss: 0.5922 - val_accuracy: 0.7108 - val_loss: 0.5825\n",
      "Epoch 13/50\n",
      "113/115 [============================>.] - ETA: 0s - accuracy: 0.6883 - loss: 0.5934\n",
      "Epoch 00013: val_loss improved from 0.58247 to 0.57641, saving model to ../pipelines/models/Burns_CNNBiLSTM/Burns_CNNBiLSTM_22/checkpoint.hdf5\n",
      "115/115 [==============================] - 2s 13ms/step - accuracy: 0.6884 - loss: 0.5931 - val_accuracy: 0.7108 - val_loss: 0.5764\n",
      "Epoch 14/50\n",
      "112/115 [============================>.] - ETA: 0s - accuracy: 0.6964 - loss: 0.5868\n",
      "Epoch 00014: val_loss did not improve from 0.57641\n",
      "115/115 [==============================] - 1s 12ms/step - accuracy: 0.6973 - loss: 0.5856 - val_accuracy: 0.7083 - val_loss: 0.5767\n",
      "Epoch 15/50\n",
      "113/115 [============================>.] - ETA: 0s - accuracy: 0.7060 - loss: 0.5791\n",
      "Epoch 00015: val_loss improved from 0.57641 to 0.57307, saving model to ../pipelines/models/Burns_CNNBiLSTM/Burns_CNNBiLSTM_22/checkpoint.hdf5\n",
      "115/115 [==============================] - 2s 13ms/step - accuracy: 0.7047 - loss: 0.5801 - val_accuracy: 0.7181 - val_loss: 0.5731\n",
      "Epoch 16/50\n",
      "114/115 [============================>.] - ETA: 0s - accuracy: 0.7001 - loss: 0.5819\n",
      "Epoch 00016: val_loss improved from 0.57307 to 0.56897, saving model to ../pipelines/models/Burns_CNNBiLSTM/Burns_CNNBiLSTM_22/checkpoint.hdf5\n",
      "115/115 [==============================] - 2s 14ms/step - accuracy: 0.6998 - loss: 0.5823 - val_accuracy: 0.7255 - val_loss: 0.5690\n",
      "Epoch 17/50\n",
      "111/115 [===========================>..] - ETA: 0s - accuracy: 0.7013 - loss: 0.5786\n",
      "Epoch 00017: val_loss did not improve from 0.56897\n",
      "115/115 [==============================] - 1s 12ms/step - accuracy: 0.7036 - loss: 0.5762 - val_accuracy: 0.7181 - val_loss: 0.5705\n",
      "Epoch 18/50\n",
      "115/115 [==============================] - ETA: 0s - accuracy: 0.7041 - loss: 0.5769\n",
      "Epoch 00018: val_loss did not improve from 0.56897\n",
      "115/115 [==============================] - 1s 12ms/step - accuracy: 0.7041 - loss: 0.5769 - val_accuracy: 0.6985 - val_loss: 0.5744\n",
      "Epoch 19/50\n",
      "113/115 [============================>.] - ETA: 0s - accuracy: 0.7105 - loss: 0.5694\n",
      "Epoch 00019: val_loss improved from 0.56897 to 0.56740, saving model to ../pipelines/models/Burns_CNNBiLSTM/Burns_CNNBiLSTM_22/checkpoint.hdf5\n",
      "115/115 [==============================] - 2s 13ms/step - accuracy: 0.7109 - loss: 0.5688 - val_accuracy: 0.7230 - val_loss: 0.5674\n",
      "Epoch 20/50\n",
      "112/115 [============================>.] - ETA: 0s - accuracy: 0.7070 - loss: 0.5695\n",
      "Epoch 00020: val_loss did not improve from 0.56740\n",
      "115/115 [==============================] - 1s 12ms/step - accuracy: 0.7071 - loss: 0.5693 - val_accuracy: 0.7304 - val_loss: 0.5710\n",
      "Epoch 21/50\n",
      "110/115 [===========================>..] - ETA: 0s - accuracy: 0.7088 - loss: 0.5727\n",
      "Epoch 00021: val_loss did not improve from 0.56740\n",
      "115/115 [==============================] - 1s 12ms/step - accuracy: 0.7112 - loss: 0.5712 - val_accuracy: 0.6863 - val_loss: 0.5837\n",
      "Epoch 22/50\n",
      "114/115 [============================>.] - ETA: 0s - accuracy: 0.7226 - loss: 0.5624\n",
      "Epoch 00022: val_loss did not improve from 0.56740\n",
      "115/115 [==============================] - 1s 12ms/step - accuracy: 0.7229 - loss: 0.5621 - val_accuracy: 0.6936 - val_loss: 0.5823\n",
      "Epoch 23/50\n",
      "113/115 [============================>.] - ETA: 0s - accuracy: 0.7060 - loss: 0.5670\n",
      "Epoch 00023: val_loss did not improve from 0.56740\n",
      "115/115 [==============================] - 1s 12ms/step - accuracy: 0.7069 - loss: 0.5664 - val_accuracy: 0.6936 - val_loss: 0.5708\n",
      "Epoch 24/50\n",
      "113/115 [============================>.] - ETA: 0s - accuracy: 0.7188 - loss: 0.5616\n",
      "Epoch 00024: val_loss improved from 0.56740 to 0.56172, saving model to ../pipelines/models/Burns_CNNBiLSTM/Burns_CNNBiLSTM_22/checkpoint.hdf5\n",
      "115/115 [==============================] - 2s 14ms/step - accuracy: 0.7186 - loss: 0.5616 - val_accuracy: 0.7304 - val_loss: 0.5617\n",
      "Epoch 25/50\n",
      "113/115 [============================>.] - ETA: 0s - accuracy: 0.7182 - loss: 0.5534\n",
      "Epoch 00025: val_loss improved from 0.56172 to 0.54966, saving model to ../pipelines/models/Burns_CNNBiLSTM/Burns_CNNBiLSTM_22/checkpoint.hdf5\n",
      "115/115 [==============================] - 2s 14ms/step - accuracy: 0.7188 - loss: 0.5530 - val_accuracy: 0.7206 - val_loss: 0.5497\n",
      "Epoch 26/50\n",
      "112/115 [============================>.] - ETA: 0s - accuracy: 0.7207 - loss: 0.5533\n",
      "Epoch 00026: val_loss did not improve from 0.54966\n",
      "115/115 [==============================] - 1s 12ms/step - accuracy: 0.7210 - loss: 0.5530 - val_accuracy: 0.7230 - val_loss: 0.5524\n",
      "Epoch 27/50\n",
      "115/115 [==============================] - ETA: 0s - accuracy: 0.7235 - loss: 0.5496\n",
      "Epoch 00027: val_loss did not improve from 0.54966\n",
      "115/115 [==============================] - 1s 12ms/step - accuracy: 0.7235 - loss: 0.5496 - val_accuracy: 0.7230 - val_loss: 0.5507\n",
      "Epoch 28/50\n",
      "114/115 [============================>.] - ETA: 0s - accuracy: 0.7303 - loss: 0.5453\n",
      "Epoch 00028: val_loss improved from 0.54966 to 0.54345, saving model to ../pipelines/models/Burns_CNNBiLSTM/Burns_CNNBiLSTM_22/checkpoint.hdf5\n",
      "115/115 [==============================] - 2s 14ms/step - accuracy: 0.7305 - loss: 0.5450 - val_accuracy: 0.7255 - val_loss: 0.5434\n",
      "Epoch 29/50\n",
      "112/115 [============================>.] - ETA: 0s - accuracy: 0.7296 - loss: 0.5448\n",
      "Epoch 00029: val_loss did not improve from 0.54345\n",
      "115/115 [==============================] - 1s 12ms/step - accuracy: 0.7303 - loss: 0.5438 - val_accuracy: 0.7206 - val_loss: 0.5438\n",
      "Epoch 30/50\n",
      "115/115 [==============================] - ETA: 0s - accuracy: 0.7311 - loss: 0.5376\n",
      "Epoch 00030: val_loss did not improve from 0.54345\n",
      "115/115 [==============================] - 1s 12ms/step - accuracy: 0.7311 - loss: 0.5376 - val_accuracy: 0.7206 - val_loss: 0.5493\n",
      "Epoch 31/50\n",
      "112/115 [============================>.] - ETA: 0s - accuracy: 0.7324 - loss: 0.5409\n",
      "Epoch 00031: val_loss improved from 0.54345 to 0.54062, saving model to ../pipelines/models/Burns_CNNBiLSTM/Burns_CNNBiLSTM_22/checkpoint.hdf5\n",
      "115/115 [==============================] - 2s 14ms/step - accuracy: 0.7311 - loss: 0.5418 - val_accuracy: 0.7255 - val_loss: 0.5406\n",
      "Epoch 32/50\n",
      "112/115 [============================>.] - ETA: 0s - accuracy: 0.7316 - loss: 0.5327\n",
      "Epoch 00032: val_loss did not improve from 0.54062\n",
      "115/115 [==============================] - 1s 12ms/step - accuracy: 0.7346 - loss: 0.5303 - val_accuracy: 0.7157 - val_loss: 0.5422\n",
      "Epoch 33/50\n",
      "113/115 [============================>.] - ETA: 0s - accuracy: 0.7312 - loss: 0.5388\n",
      "Epoch 00033: val_loss did not improve from 0.54062\n",
      "115/115 [==============================] - 1s 12ms/step - accuracy: 0.7314 - loss: 0.5390 - val_accuracy: 0.7157 - val_loss: 0.5455\n",
      "Epoch 34/50\n",
      "114/115 [============================>.] - ETA: 0s - accuracy: 0.7286 - loss: 0.5398\n",
      "Epoch 00034: val_loss did not improve from 0.54062\n",
      "115/115 [==============================] - 1s 11ms/step - accuracy: 0.7289 - loss: 0.5395 - val_accuracy: 0.7377 - val_loss: 0.5515\n",
      "Epoch 35/50\n",
      "113/115 [============================>.] - ETA: 0s - accuracy: 0.7323 - loss: 0.5302\n",
      "Epoch 00035: val_loss did not improve from 0.54062\n",
      "115/115 [==============================] - 1s 12ms/step - accuracy: 0.7330 - loss: 0.5297 - val_accuracy: 0.7132 - val_loss: 0.5492\n",
      "Epoch 36/50\n",
      "115/115 [==============================] - ETA: 0s - accuracy: 0.7352 - loss: 0.5323\n",
      "Epoch 00036: val_loss did not improve from 0.54062\n",
      "115/115 [==============================] - 1s 12ms/step - accuracy: 0.7352 - loss: 0.5323 - val_accuracy: 0.7377 - val_loss: 0.5461\n",
      "Epoch 00036: early stopping\n"
     ]
    }
   ],
   "source": [
    "history = model.fit(x_train, y_train,\n",
    "                    epochs=config.epochs,\n",
    "                    batch_size=config.batch_size,\n",
    "                    validation_data=(x_val, y_val),\n",
    "                    callbacks=keras_callbacks)\n",
    "\n",
    "if config.keras_callbacks:\n",
    "    model.load_weights(checkpoint_path)"
   ]
  },
  {
   "cell_type": "markdown",
   "metadata": {},
   "source": [
    "## Evaluation - Training Set"
   ]
  },
  {
   "cell_type": "code",
   "execution_count": 27,
   "metadata": {},
   "outputs": [
    {
     "name": "stdout",
     "output_type": "stream",
     "text": [
      "Training Loss: 0.513\n",
      "Training Accuracy: 0.746\n"
     ]
    },
    {
     "data": {
      "image/png": "[encoded data removed]",
      "text/plain": [
       "<Figure size 936x360 with 2 Axes>"
      ]
     },
     "metadata": {
      "needs_background": "light"
     },
     "output_type": "display_data"
    }
   ],
   "source": [
    "train_loss, config.train_acc = model.evaluate(x_train, y_train, verbose=0)\n",
    "\n",
    "print('Training Loss: %.3f' % (train_loss))\n",
    "print('Training Accuracy: %.3f' % (config.train_acc))\n",
    "\n",
    "\n",
    "plot_training_history(history_dict = history, config=config)"
   ]
  },
  {
   "cell_type": "markdown",
   "metadata": {},
   "source": [
    "# Test Set"
   ]
  },
  {
   "cell_type": "markdown",
   "metadata": {},
   "source": [
    "### Load Data"
   ]
  },
  {
   "cell_type": "code",
   "execution_count": 28,
   "metadata": {},
   "outputs": [],
   "source": [
    "docs_test = bioc_to_docs(test_dataset_path, config=config)\n",
    "relevances_test = bioc_to_relevances(test_dataset_path, 'protein-protein')\n",
    "\n",
    "x_test_df = docs_to_pandasdocs(docs_test)\n",
    "y_test_df = relevances_to_pandas(x_test_df, relevances_test)\n",
    "\n",
    "x_test, y_test = DL_preprocessing(x_test_df, y_test_df, config, dataset = 'test')\n"
   ]
  },
  {
   "cell_type": "markdown",
   "metadata": {},
   "source": [
    "### Predictions"
   ]
  },
  {
   "cell_type": "code",
   "execution_count": 29,
   "metadata": {},
   "outputs": [],
   "source": [
    "yhat_probs = model.predict(x_test, verbose=0)\n",
    "yhat_probs = yhat_probs[:, 0]\n",
    "\n",
    "yhat_classes = np.where(yhat_probs > 0.5, 1, yhat_probs)\n",
    "yhat_classes = np.where(yhat_classes < 0.5, 0, yhat_classes).astype(np.int64)"
   ]
  },
  {
   "cell_type": "markdown",
   "metadata": {},
   "source": [
    "## Evaluation - Test Set"
   ]
  },
  {
   "cell_type": "markdown",
   "metadata": {},
   "source": [
    "### ROC and Precision-Recall curves"
   ]
  },
  {
   "cell_type": "code",
   "execution_count": 30,
   "metadata": {
    "scrolled": true
   },
   "outputs": [
    {
     "data": {
      "image/png": "[encoded data removed]",
      "text/plain": [
       "<Figure size 936x360 with 2 Axes>"
      ]
     },
     "metadata": {
      "needs_background": "light"
     },
     "output_type": "display_data"
    }
   ],
   "source": [
    "config.test_roc_auc, config.test_pr_auc = plot_roc_n_pr_curves(y_test, yhat_probs,config = config)"
   ]
  },
  {
   "cell_type": "code",
   "execution_count": 31,
   "metadata": {
    "scrolled": false
   },
   "outputs": [
    {
     "name": "stdout",
     "output_type": "stream",
     "text": [
      "Average Precision: 0.658496\n",
      "Accuracy: 0.594954\n",
      "Precision: 0.561165\n",
      "Recall: 0.821023\n",
      "F1 score: 0.666667\n",
      "ROC AUC: 0.674138\n",
      "PR AUC: 0.657976\n",
      "Cohens kappa: 0.194665\n",
      "MCC: 0.218507\n",
      "Confusion Matrix:\n",
      " [[271 452]\n",
      " [126 578]] \n",
      "\n"
     ]
    }
   ],
   "source": [
    "config.test_avg_prec  = average_precision(y_test_df, yhat_probs)\n",
    "print('Average Precision: %f' % config.test_avg_prec)\n",
    "\n",
    "# accuracy: (tp + tn) / (p + n)\n",
    "config.test_acc = accuracy_score(y_test, yhat_classes)\n",
    "print('Accuracy: %f' % config.test_acc)\n",
    "\n",
    "# precision tp / (tp + fp)\n",
    "config.test_prec = precision_score(y_test, yhat_classes)\n",
    "print('Precision: %f' % config.test_prec)\n",
    "\n",
    "# recall: tp / (tp + fn)\n",
    "config.test_recall = recall_score(y_test, yhat_classes)\n",
    "print('Recall: %f' % config.test_recall)\n",
    "\n",
    "# f1: 2 tp / (2 tp + fp + fn)\n",
    "config.test_f1_score = f1_score(y_test, yhat_classes)\n",
    "print('F1 score: %f' % config.test_f1_score)\n",
    "\n",
    "# ROC AUC\n",
    "print('ROC AUC: %f' % config.test_roc_auc)\n",
    "\n",
    "# PR AUC\n",
    "print('PR AUC: %f' % config.test_pr_auc)\n",
    "\n",
    "# kappa\n",
    "config.test_kappa = cohen_kappa_score(y_test, yhat_classes)\n",
    "print('Cohens kappa: %f' % config.test_kappa)\n",
    "\n",
    "config.test_mcc = matthews_corrcoef(y_test, yhat_classes)\n",
    "print('MCC: %f' % config.test_mcc)\n",
    "\n",
    "# confusion matrix\n",
    "matrix = confusion_matrix(y_test, yhat_classes)\n",
    "print('Confusion Matrix:\\n %s \\n' % matrix)\n",
    "\n",
    "config.test_true_neg, config.test_false_pos, config.test_false_neg, config.test_true_pos = confusion_matrix(\n",
    "                                                                                                y_test, yhat_classes).ravel()"
   ]
  },
  {
   "cell_type": "markdown",
   "metadata": {},
   "source": [
    "### Model ID"
   ]
  },
  {
   "cell_type": "code",
   "execution_count": 32,
   "metadata": {},
   "outputs": [
    {
     "data": {
      "text/plain": [
       "'Burns_CNNBiLSTM_22'"
      ]
     },
     "execution_count": 32,
     "metadata": {},
     "output_type": "execute_result"
    }
   ],
   "source": [
    "config.model_id"
   ]
  },
  {
   "cell_type": "markdown",
   "metadata": {},
   "source": [
    "### Save config"
   ]
  },
  {
   "cell_type": "code",
   "execution_count": 33,
   "metadata": {
    "scrolled": true
   },
   "outputs": [],
   "source": [
    "config.save()"
   ]
  },
  {
   "cell_type": "code",
   "execution_count": 34,
   "metadata": {
    "scrolled": true
   },
   "outputs": [
    {
     "data": {
      "text/plain": [
       "PosixPath('../pipelines/models/Burns_CNNBiLSTM/Burns_CNNBiLSTM_22/config.txt')"
      ]
     },
     "execution_count": 34,
     "metadata": {},
     "output_type": "execute_result"
    }
   ],
   "source": [
    "config.path"
   ]
  },
  {
   "cell_type": "markdown",
   "metadata": {},
   "source": [
    "### Write Results"
   ]
  },
  {
   "cell_type": "code",
   "execution_count": 35,
   "metadata": {},
   "outputs": [
    {
     "name": "stdout",
     "output_type": "stream",
     "text": [
      "{'model_id': ['Burns_CNNBiLSTM_22'], 'max_sent_len': [300], 'max_nb_words': [100000], 'max_nb_sentences': [None], 'nmr_sentences': [None], 'embeddings': ['biowordvec'], 'embedding_dim': [200], 'embedding_format': ['word2vec'], 'stop_words': ['Removed'], 'padding': ['post'], 'truncating': ['post'], 'oov_token': ['OOV'], 'lower': ['True'], 'remove_punctuation': ['False'], 'split_by_hyphen': ['True'], 'lemmatization': ['False'], 'stems': ['False'], 'seed_value': [None], 'epochs': [50], 'batch_size': [32], 'learning_rate': [0.0001], 'validation_percentage': [10], 'patience': [5], 'keras_callbacks': ['True'], 'train_acc': [0.7457811832427979], 'train_f1_score': [None], 'test_avg_prec': [0.6584957890767796], 'test_acc': [0.5949544498948843], 'test_prec': [0.5611650485436893], 'test_recall': [0.8210227272727273], 'test_f1_score': [0.6666666666666667], 'test_roc_auc': [0.674138296869106], 'test_pr_auc': [0.6579755939394061], 'test_kappa': [0.19466538043191717], 'test_mcc': [0.21850673408996726], 'test_true_neg': [271], 'test_false_pos': [452], 'test_false_neg': [126], 'test_true_pos': [578]}\n"
     ]
    }
   ],
   "source": [
    "config.write_report()"
   ]
  },
  {
   "cell_type": "markdown",
   "metadata": {},
   "source": [
    "### Model Save"
   ]
  },
  {
   "cell_type": "code",
   "execution_count": 36,
   "metadata": {},
   "outputs": [
    {
     "name": "stdout",
     "output_type": "stream",
     "text": [
      "WARNING:tensorflow:From /home/malves/miniconda3/envs/biotmpygpu/lib/python3.8/site-packages/tensorflow/python/ops/resource_variable_ops.py:1813: calling BaseResourceVariable.__init__ (from tensorflow.python.ops.resource_variable_ops) with constraint is deprecated and will be removed in a future version.\n",
      "Instructions for updating:\n",
      "If using Keras pass *_constraint arguments to layers.\n",
      "INFO:tensorflow:Assets written to: ../pipelines/models/Burns_CNNBiLSTM/Burns_CNNBiLSTM_22/model_tf/assets\n"
     ]
    }
   ],
   "source": [
    "model.save(config.model_id_path / 'model_tf', save_format = 'tf')"
   ]
  },
  {
   "cell_type": "code",
   "execution_count": 37,
   "metadata": {},
   "outputs": [],
   "source": [
    "model_yaml = model.to_yaml()\n",
    "with open(config.model_id_path / \"model.yaml\", \"w\") as yaml_file:\n",
    "    yaml_file.write(model_yaml)"
   ]
  },
  {
   "cell_type": "code",
   "execution_count": 38,
   "metadata": {},
   "outputs": [
    {
     "ename": "ModuleNotFoundError",
     "evalue": "No module named 'winsound'",
     "output_type": "error",
     "traceback": [
      "\u001b[0;31m---------------------------------------------------------------------------\u001b[0m",
      "\u001b[0;31mModuleNotFoundError\u001b[0m                       Traceback (most recent call last)",
      "\u001b[0;32m<ipython-input-38-c49ef19a34eb>\u001b[0m in \u001b[0;36m<module>\u001b[0;34m\u001b[0m\n\u001b[0;32m----> 1\u001b[0;31m \u001b[0;32mimport\u001b[0m \u001b[0mwinsound\u001b[0m\u001b[0;34m\u001b[0m\u001b[0;34m\u001b[0m\u001b[0m\n\u001b[0m\u001b[1;32m      2\u001b[0m \u001b[0mfrequency\u001b[0m \u001b[0;34m=\u001b[0m \u001b[0;36m2500\u001b[0m  \u001b[0;31m# Set Frequency To 2500 Hertz\u001b[0m\u001b[0;34m\u001b[0m\u001b[0;34m\u001b[0m\u001b[0m\n\u001b[1;32m      3\u001b[0m \u001b[0mduration\u001b[0m \u001b[0;34m=\u001b[0m \u001b[0;36m1000\u001b[0m  \u001b[0;31m# Set Duration To 1000 ms == 1 second\u001b[0m\u001b[0;34m\u001b[0m\u001b[0;34m\u001b[0m\u001b[0m\n\u001b[1;32m      4\u001b[0m \u001b[0mwinsound\u001b[0m\u001b[0;34m.\u001b[0m\u001b[0mBeep\u001b[0m\u001b[0;34m(\u001b[0m\u001b[0mfrequency\u001b[0m\u001b[0;34m,\u001b[0m \u001b[0mduration\u001b[0m\u001b[0;34m)\u001b[0m\u001b[0;34m\u001b[0m\u001b[0;34m\u001b[0m\u001b[0m\n",
      "\u001b[0;31mModuleNotFoundError\u001b[0m: No module named 'winsound'"
     ]
    }
   ],
   "source": [
    "import winsound\n",
    "frequency = 2500  # Set Frequency To 2500 Hertz\n",
    "duration = 1000  # Set Duration To 1000 ms == 1 second\n",
    "winsound.Beep(frequency, duration)"
   ]
  },
  {
   "cell_type": "code",
   "execution_count": null,
   "metadata": {},
   "outputs": [],
   "source": []
  }
 ],
 "metadata": {
  "kernelspec": {
   "display_name": "Python 3",
   "language": "python",
   "name": "python3"
  },
  "language_info": {
   "codemirror_mode": {
    "name": "ipython",
    "version": 3
   },
   "file_extension": ".py",
   "mimetype": "text/x-python",
   "name": "python",
   "nbconvert_exporter": "python",
   "pygments_lexer": "ipython3",
   "version": "3.8.5"
  }
 },
 "nbformat": 4,
 "nbformat_minor": 2
}
