{
 "cells": [
  {
   "cell_type": "code",
   "execution_count": 1,
   "metadata": {},
   "outputs": [],
   "source": [
    "model_name= 'bluebert_ft'"
   ]
  },
  {
   "cell_type": "code",
   "execution_count": 2,
   "metadata": {},
   "outputs": [],
   "source": [
    "%load_ext autoreload\n",
    "%autoreload 2"
   ]
  },
  {
   "cell_type": "code",
   "execution_count": 3,
   "metadata": {},
   "outputs": [],
   "source": [
    "import sys \n",
    "sys.path.append('../')"
   ]
  },
  {
   "cell_type": "code",
   "execution_count": 4,
   "metadata": {},
   "outputs": [
    {
     "name": "stdout",
     "output_type": "stream",
     "text": [
      "Environment: biotmpygpu\n"
     ]
    },
    {
     "data": {
      "text/plain": [
       "'2.2.0'"
      ]
     },
     "execution_count": 4,
     "metadata": {},
     "output_type": "execute_result"
    }
   ],
   "source": [
    "import os\n",
    "import tensorflow \n",
    "import numpy as np\n",
    "import random\n",
    "\n",
    "seed_value = 123123\n",
    "#seed_value = None\n",
    "\n",
    "environment_name = sys.executable.split('/')[-3]\n",
    "print('Environment:', environment_name)\n",
    "os.environ[environment_name] = str(seed_value)\n",
    "\n",
    "\n",
    "np.random.seed(seed_value)\n",
    "random.seed(seed_value)\n",
    "tensorflow.random.set_seed(seed_value)\n",
    "\n",
    "from tensorflow.compat.v1 import ConfigProto\n",
    "from tensorflow.compat.v1 import InteractiveSession\n",
    "import tensorflow.compat.v1.keras.backend as K\n",
    "config = ConfigProto()\n",
    "config.gpu_options.allow_growth = True\n",
    "session = InteractiveSession(config=config)\n",
    "K.set_session(session)\n",
    "\n",
    "tensorflow.__version__"
   ]
  },
  {
   "cell_type": "code",
   "execution_count": 5,
   "metadata": {},
   "outputs": [],
   "source": [
    "multiple_gpus = [0,1,2,3]\n",
    "#multiple_gpus = None"
   ]
  },
  {
   "cell_type": "code",
   "execution_count": 6,
   "metadata": {},
   "outputs": [
    {
     "name": "stdout",
     "output_type": "stream",
     "text": [
      "Num GPUs Available:  4\n",
      "INFO:tensorflow:Using MirroredStrategy with devices ('/job:localhost/replica:0/task:0/device:GPU:0', '/job:localhost/replica:0/task:0/device:GPU:1', '/job:localhost/replica:0/task:0/device:GPU:2', '/job:localhost/replica:0/task:0/device:GPU:3')\n"
     ]
    }
   ],
   "source": [
    "import os\n",
    "import tensorflow as tf\n",
    "print(\"Num GPUs Available: \", len(tf.config.experimental.list_physical_devices('GPU')))\n",
    "\n",
    "if multiple_gpus:\n",
    "    devices = []\n",
    "    for gpu in multiple_gpus:\n",
    "        devices.append('/gpu:' + str(gpu))    \n",
    "    strategy = tensorflow.distribute.MirroredStrategy(devices=devices)\n",
    "    os.environ[\"CUDA_VISIBLE_DEVICES\"] = ''\n",
    "\n",
    "else:\n",
    "    # Get the GPU device name.\n",
    "    device_name = tensorflow.test.gpu_device_name()\n",
    "    # The device name should look like the following:\n",
    "    if device_name == '/device:GPU:0':\n",
    "        print('Using GPU: {}'.format(device_name))\n",
    "    else:\n",
    "        raise SystemError('GPU device not found')\n",
    "\n",
    "    os.environ[\"CUDA_VISIBLE_DEVICES\"] = device_name\n",
    "    os.environ[\"CUDA_DEVICE_ORDER\"] = \"PCI_BUS_ID\""
   ]
  },
  {
   "cell_type": "code",
   "execution_count": 7,
   "metadata": {},
   "outputs": [
    {
     "name": "stderr",
     "output_type": "stream",
     "text": [
      "[nltk_data] Downloading package stopwords to /home/malves/nltk_data...\n",
      "[nltk_data]   Package stopwords is already up-to-date!\n",
      "[nltk_data] Downloading package wordnet to /home/malves/nltk_data...\n",
      "[nltk_data]   Package wordnet is already up-to-date!\n",
      "[nltk_data] Downloading package punkt to /home/malves/nltk_data...\n",
      "[nltk_data]   Package punkt is already up-to-date!\n"
     ]
    }
   ],
   "source": [
    "from wrappers.bioc_wrapper import bioc_to_docs, bioc_to_relevances\n",
    "from wrappers.pandas_wrapper import relevances_to_pandas, docs_to_pandasdocs\n",
    "from preprocessing.dl import DL_preprocessing\n",
    "from mlearning.dl_models import Bert_FT, Bert_FE, Bert_Sequence_FT, Bert_Sequence_FE\n",
    "from preprocessing.dl import Bert_preprocessing\n",
    "from preprocessing.embeddings import compute_embedding_matrix\n",
    "from sklearn.metrics import accuracy_score, precision_score, recall_score, f1_score\n",
    "from sklearn.metrics import matthews_corrcoef, cohen_kappa_score\n",
    "from sklearn.metrics import roc_auc_score, auc, roc_curve, precision_recall_curve\n",
    "from sklearn.metrics import confusion_matrix\n",
    "from tensorflow.keras.callbacks import EarlyStopping, ModelCheckpoint\n",
    "from tensorflow.keras.models import load_model\n",
    "from preprocessing.dl_config import DLConfig\n",
    "from preprocessing.dl import average_precision\n",
    "from preprocessing.dl import plot_roc_n_pr_curves, plot_training_history\n",
    "from transformers import BertTokenizer\n",
    "import nltk\n",
    "nltk.download('stopwords')\n",
    "nltk.download('wordnet')\n",
    "nltk.download('punkt')\n",
    "from nltk.corpus import stopwords\n",
    "import pandas as pd\n",
    "import os\n",
    "from transformers import AutoTokenizer"
   ]
  },
  {
   "cell_type": "code",
   "execution_count": 8,
   "metadata": {},
   "outputs": [],
   "source": [
    "train_dataset_path = '../datasets/PMtask_Triage_TrainingSet.xml'\n",
    "test_dataset_path = '../datasets/PMtask_Triage_TestSet.xml'\n",
    "output_excel = 'metrics/results_'+ model_name + '.xlsx'"
   ]
  },
  {
   "cell_type": "code",
   "execution_count": 9,
   "metadata": {
    "scrolled": true
   },
   "outputs": [],
   "source": [
    "# !wget https://ftp.ncbi.nlm.nih.gov/pub/lu/Suppl/NCBI-BERT/NCBI_BERT_pubmed_uncased_L-12_H-768_A-12.zip\n",
    "# !mkdir bluebert\n",
    "# !unzip NCBI_BERT_pubmed_uncased_L-12_H-768_A-12.zip -d ./bluebert"
   ]
  },
  {
   "cell_type": "code",
   "execution_count": 10,
   "metadata": {},
   "outputs": [],
   "source": [
    "# os.environ[\"WANDB_API_KEY\"] = \"0\" ## to silence warning\n",
    "# !transformers-cli convert --model_type bert \\\n",
    "#   --tf_checkpoint './bluebert/bert_model.ckpt' \\\n",
    "#   --config './bluebert/bert_config.json' \\\n",
    "#   --pytorch_dump_output './bluebert/pytorch_model.bin'"
   ]
  },
  {
   "cell_type": "markdown",
   "metadata": {},
   "source": [
    "## Load Data"
   ]
  },
  {
   "cell_type": "code",
   "execution_count": 11,
   "metadata": {
    "scrolled": true
   },
   "outputs": [],
   "source": [
    "dl_config = DLConfig(model_name=model_name, seed_value=seed_value)\n",
    "\n",
    "#dl_config.stop_words = set(stopwords.words('english'))            #####\n",
    "dl_config.stop_words = None\n",
    "dl_config.lower = True                #####\n",
    "dl_config.remove_punctuation = False\n",
    "dl_config.split_by_hyphen = False   \n",
    "dl_config.lemmatization = False           #####\n",
    "dl_config.stems = False                       #####\n",
    "\n",
    "\n",
    "docs_train = bioc_to_docs(train_dataset_path, dl_config=dl_config)\n",
    "relevances_train = bioc_to_relevances(train_dataset_path, 'protein-protein')\n",
    "\n",
    "\n",
    "x_train_df = docs_to_pandasdocs(docs_train)\n",
    "y_train_df = relevances_to_pandas(x_train_df, relevances_train)"
   ]
  },
  {
   "cell_type": "code",
   "execution_count": 12,
   "metadata": {
    "scrolled": true
   },
   "outputs": [
    {
     "data": {
      "text/html": [
       "<div>\n",
       "<style scoped>\n",
       "    .dataframe tbody tr th:only-of-type {\n",
       "        vertical-align: middle;\n",
       "    }\n",
       "\n",
       "    .dataframe tbody tr th {\n",
       "        vertical-align: top;\n",
       "    }\n",
       "\n",
       "    .dataframe thead th {\n",
       "        text-align: right;\n",
       "    }\n",
       "</style>\n",
       "<table border=\"1\" class=\"dataframe\">\n",
       "  <thead>\n",
       "    <tr style=\"text-align: right;\">\n",
       "      <th></th>\n",
       "      <th>Document</th>\n",
       "    </tr>\n",
       "  </thead>\n",
       "  <tbody>\n",
       "    <tr>\n",
       "      <th>9685346</th>\n",
       "      <td>&lt;data_structures.document.Document object at 0...</td>\n",
       "    </tr>\n",
       "    <tr>\n",
       "      <th>10364224</th>\n",
       "      <td>&lt;data_structures.document.Document object at 0...</td>\n",
       "    </tr>\n",
       "    <tr>\n",
       "      <th>10688642</th>\n",
       "      <td>&lt;data_structures.document.Document object at 0...</td>\n",
       "    </tr>\n",
       "    <tr>\n",
       "      <th>12059041</th>\n",
       "      <td>&lt;data_structures.document.Document object at 0...</td>\n",
       "    </tr>\n",
       "    <tr>\n",
       "      <th>12897151</th>\n",
       "      <td>&lt;data_structures.document.Document object at 0...</td>\n",
       "    </tr>\n",
       "    <tr>\n",
       "      <th>...</th>\n",
       "      <td>...</td>\n",
       "    </tr>\n",
       "    <tr>\n",
       "      <th>22521144</th>\n",
       "      <td>&lt;data_structures.document.Document object at 0...</td>\n",
       "    </tr>\n",
       "    <tr>\n",
       "      <th>25759389</th>\n",
       "      <td>&lt;data_structures.document.Document object at 0...</td>\n",
       "    </tr>\n",
       "    <tr>\n",
       "      <th>19887646</th>\n",
       "      <td>&lt;data_structures.document.Document object at 0...</td>\n",
       "    </tr>\n",
       "    <tr>\n",
       "      <th>23486661</th>\n",
       "      <td>&lt;data_structures.document.Document object at 0...</td>\n",
       "    </tr>\n",
       "    <tr>\n",
       "      <th>22992732</th>\n",
       "      <td>&lt;data_structures.document.Document object at 0...</td>\n",
       "    </tr>\n",
       "  </tbody>\n",
       "</table>\n",
       "<p>4082 rows × 1 columns</p>\n",
       "</div>"
      ],
      "text/plain": [
       "                                                   Document\n",
       "9685346   <data_structures.document.Document object at 0...\n",
       "10364224  <data_structures.document.Document object at 0...\n",
       "10688642  <data_structures.document.Document object at 0...\n",
       "12059041  <data_structures.document.Document object at 0...\n",
       "12897151  <data_structures.document.Document object at 0...\n",
       "...                                                     ...\n",
       "22521144  <data_structures.document.Document object at 0...\n",
       "25759389  <data_structures.document.Document object at 0...\n",
       "19887646  <data_structures.document.Document object at 0...\n",
       "23486661  <data_structures.document.Document object at 0...\n",
       "22992732  <data_structures.document.Document object at 0...\n",
       "\n",
       "[4082 rows x 1 columns]"
      ]
     },
     "execution_count": 12,
     "metadata": {},
     "output_type": "execute_result"
    }
   ],
   "source": [
    "x_train_df"
   ]
  },
  {
   "cell_type": "code",
   "execution_count": 13,
   "metadata": {
    "scrolled": true
   },
   "outputs": [
    {
     "data": {
      "text/plain": [
       "9685346     0\n",
       "10364224    0\n",
       "10688642    0\n",
       "12059041    0\n",
       "12897151    0\n",
       "           ..\n",
       "22521144    1\n",
       "25759389    1\n",
       "19887646    1\n",
       "23486661    1\n",
       "22992732    1\n",
       "Name: Label, Length: 4082, dtype: int64"
      ]
     },
     "execution_count": 13,
     "metadata": {},
     "output_type": "execute_result"
    }
   ],
   "source": [
    "y_train_df"
   ]
  },
  {
   "cell_type": "code",
   "execution_count": 14,
   "metadata": {},
   "outputs": [
    {
     "data": {
      "text/plain": [
       "'the molecular basis of rieger syndrome analysis of pitx2 homeodomain protein activities rieger syndrome is an autosomal-dominant developmental disorder that includes glaucoma and mild craniofacial dysmorphism in humans'"
      ]
     },
     "execution_count": 14,
     "metadata": {},
     "output_type": "execute_result"
    }
   ],
   "source": [
    "x_train_df['Document'][0].title_string"
   ]
  },
  {
   "cell_type": "code",
   "execution_count": 15,
   "metadata": {
    "scrolled": true
   },
   "outputs": [
    {
     "data": {
      "text/plain": [
       "'mutations in the pitx2 homeobox gene have been linked to rieger syndrome we have characterized wild type and mutant pitx2 activities using electrophoretic mobility shift assays protein binding and transient transfection assays pitx2 preferentially binds the bicoid homeodomain binding site and transactivates reporter genes containing this site the combination of pitx2 and another homeodomain protein pit-1 yielded a synergistic 55-fold activation of the prolactin promoter in transfection assays addition of pit-1 increased pitx2 binding to the bicoid element in electrophoretic mobility shift assays furthermore we demonstrate specific binding of pit-1 to pitx2 in vitro thus wild type pitx2 dna binding activity is modulated by protein-protein interactions we next studied two rieger mutants a threonine to proline mutation t68p in the second helix of the homeodomain retained dna binding activity with the same apparent kd and only about a 2-fold reduction in the bmax however this mutant did not transactivate reporter genes containing the bicoid site the mutant pitx2 protein binds pit-1 but there was no detectable synergism on the prolactin promoter a second mutation l54q in a highly conserved residue in helix 1 of the homeodomain yielded an unstable protein our results provide insights into the potential mechanisms underlying the developmental defects in rieger syndrome'"
      ]
     },
     "execution_count": 15,
     "metadata": {},
     "output_type": "execute_result"
    }
   ],
   "source": [
    "x_train_df['Document'][0].abstract_string"
   ]
  },
  {
   "cell_type": "markdown",
   "metadata": {},
   "source": [
    "### Deep Learning"
   ]
  },
  {
   "cell_type": "code",
   "execution_count": 16,
   "metadata": {},
   "outputs": [],
   "source": [
    "#Parameters\n",
    "dl_config.padding = 'post'           \n",
    "dl_config.truncating = 'post'        \n",
    "\n",
    "dl_config.epochs = 2         # recommended number of epochs: 2, 3, 4 \n",
    "dl_config.batch_size = 16     # recommended batch-size: 16 or 32  # 8, 16, 32, 64, 128\n",
    "dl_config.learning_rate = 5e-5   # recommended learning rate for Adam: 5e-5, 3e-5, 2e-5   # 3e-4, 1e-4,\n",
    "\n",
    "dl_config.max_sent_len = 512      #sentences will have a maximum of \"max_sent_len\" words\n",
    "dl_config.nmr_sentences = 1    #[1 or 2]\n",
    "\n",
    "dl_config.validation_percentage = 10"
   ]
  },
  {
   "cell_type": "markdown",
   "metadata": {},
   "source": [
    "### Keras Callbacks"
   ]
  },
  {
   "cell_type": "code",
   "execution_count": 17,
   "metadata": {},
   "outputs": [],
   "source": [
    "dl_config.keras_callbacks = False\n",
    "\n",
    "if dl_config.keras_callbacks:\n",
    "    dl_config.patience = 10   #early-stopping patience\n",
    "    checkpoint_path = str(dl_config.model_id_path) + '/checkpoint.hdf5'\n",
    "    keras_callbacks = [\n",
    "            EarlyStopping(monitor='val_loss', mode='min', verbose=1, patience=dl_config.patience),\n",
    "            ModelCheckpoint(checkpoint_path, monitor='val_loss', mode='min', verbose=1, save_best_only=True)\n",
    "    ]\n",
    "else:\n",
    "    keras_callbacks=None"
   ]
  },
  {
   "cell_type": "markdown",
   "metadata": {},
   "source": [
    "## SciBert"
   ]
  },
  {
   "cell_type": "code",
   "execution_count": 18,
   "metadata": {},
   "outputs": [],
   "source": [
    "dl_config.tokenizer = BertTokenizer.from_pretrained('bluebert', do_lower_case=True)"
   ]
  },
  {
   "cell_type": "code",
   "execution_count": 19,
   "metadata": {},
   "outputs": [
    {
     "data": {
      "text/plain": [
       "['paris',\n",
       " 'systems',\n",
       " 'saint',\n",
       " 'leader',\n",
       " 'theatre',\n",
       " 'whose',\n",
       " 'market',\n",
       " 'capital',\n",
       " 'parents',\n",
       " 'spanish',\n",
       " 'canadian',\n",
       " 'earth',\n",
       " '##ity',\n",
       " 'cut',\n",
       " 'degree',\n",
       " 'writing',\n",
       " 'bay',\n",
       " 'christian',\n",
       " 'awarded',\n",
       " 'natural']"
      ]
     },
     "execution_count": 19,
     "metadata": {},
     "output_type": "execute_result"
    }
   ],
   "source": [
    "list(dl_config.tokenizer.vocab.keys())[3000:3020]"
   ]
  },
  {
   "cell_type": "code",
   "execution_count": 20,
   "metadata": {
    "scrolled": true
   },
   "outputs": [
    {
     "name": "stdout",
     "output_type": "stream",
     "text": [
      "Training set with 3674 samples\n",
      "Validation set with 408 samples\n"
     ]
    }
   ],
   "source": [
    "x_train, y_train, x_val, y_val =  Bert_preprocessing(x_train_df, y_train_df, \n",
    "                                                     dl_config, \n",
    "                                                     nmr_sentences = dl_config.nmr_sentences, \n",
    "                                                     validation_percentage = dl_config.validation_percentage, \n",
    "                                                     seed_value=dl_config.seed_value)"
   ]
  },
  {
   "cell_type": "code",
   "execution_count": 21,
   "metadata": {},
   "outputs": [
    {
     "name": "stderr",
     "output_type": "stream",
     "text": [
      "All PyTorch model weights were used when initializing TFBertModel.\n",
      "\n",
      "Some weights or buffers of the PyTorch model TFBertModel were not initialized from the TF 2.0 model and are newly initialized: ['cls.seq_relationship.bias', 'cls.predictions.transform.dense.bias', 'cls.seq_relationship.weight', 'cls.predictions.bias', 'cls.predictions.transform.LayerNorm.bias', 'cls.predictions.transform.LayerNorm.weight', 'cls.predictions.transform.dense.weight', 'cls.predictions.decoder.weight', 'bert.embeddings.position_ids', 'cls.predictions.decoder.bias']\n",
      "You should probably TRAIN this model on a down-stream task to be able to use it for predictions and inference.\n"
     ]
    },
    {
     "name": "stdout",
     "output_type": "stream",
     "text": [
      "Model: \"model\"\n",
      "__________________________________________________________________________________________________\n",
      "Layer (type)                    Output Shape         Param #     Connected to                     \n",
      "==================================================================================================\n",
      "input_idx (InputLayer)          [(None, 512)]        0                                            \n",
      "__________________________________________________________________________________________________\n",
      "input_masks (InputLayer)        [(None, 512)]        0                                            \n",
      "__________________________________________________________________________________________________\n",
      "input_segments (InputLayer)     [(None, 512)]        0                                            \n",
      "__________________________________________________________________________________________________\n",
      "tf_bert_model (TFBertModel)     ((None, 512, 768), ( 109482240   input_idx[0][0]                  \n",
      "                                                                 input_masks[0][0]                \n",
      "                                                                 input_segments[0][0]             \n",
      "__________________________________________________________________________________________________\n",
      "global_average_pooling1d (Globa (None, 768)          0           tf_bert_model[0][0]              \n",
      "__________________________________________________________________________________________________\n",
      "dense (Dense)                   (None, 100)          76900       global_average_pooling1d[0][0]   \n",
      "__________________________________________________________________________________________________\n",
      "dense_1 (Dense)                 (None, 1)            101         dense[0][0]                      \n",
      "==================================================================================================\n",
      "Total params: 109,559,241\n",
      "Trainable params: 109,559,241\n",
      "Non-trainable params: 0\n",
      "__________________________________________________________________________________________________\n",
      "None\n"
     ]
    }
   ],
   "source": [
    "scibert_path = './bluebert/'\n",
    "\n",
    "if multiple_gpus:\n",
    "    with strategy.scope():\n",
    "        model = Bert_FT(dl_config, learning_rate=dl_config.learning_rate, bert_name_or_path=scibert_path, bert_config=True)\n",
    "        #model = Bert_FE(dl_config, learning_rate=dl_config.learning_rate, bert_name_or_path=scibert_path, bert_config=True)\n",
    "        #model = Bert_Sequence_FT(dl_config, learning_rate=dl_config.learning_rate, bert_name_or_path=scibert_path, bert_config=True)\n",
    "        #model = Bert_Sequence_FE(dl_config, learning_rate=dl_config.learning_rate, bert_name_or_path=scibert_path, bert_config=True)\n",
    "        \n",
    "else:\n",
    "    model = Bert_FT(dl_config, learning_rate=dl_config.learning_rate, bert_name_or_path=scibert_path, bert_config=True)\n",
    "    #model = Bert_FE(dl_config, learning_rate=dl_config.learning_rate, bert_name_or_path=scibert_path, bert_config=True)\n",
    "    #model = Bert_Sequence_FT(dl_config, learning_rate=dl_config.learning_rate, bert_name_or_path=scibert_path, bert_config=True)\n",
    "    #model = Bert_Sequence_FE(dl_config, learning_rate=dl_config.learning_rate, bert_name_or_path=scibert_path, bert_config=True)"
   ]
  },
  {
   "cell_type": "code",
   "execution_count": 22,
   "metadata": {
    "scrolled": true
   },
   "outputs": [
    {
     "name": "stdout",
     "output_type": "stream",
     "text": [
      "Epoch 1/2\n",
      "WARNING:tensorflow:Gradients do not exist for variables ['tf_bert_model/bert/pooler/dense/kernel:0', 'tf_bert_model/bert/pooler/dense/bias:0'] when minimizing the loss.\n",
      "WARNING:tensorflow:Gradients do not exist for variables ['tf_bert_model/bert/pooler/dense/kernel:0', 'tf_bert_model/bert/pooler/dense/bias:0'] when minimizing the loss.\n",
      "WARNING:tensorflow:Gradients do not exist for variables ['tf_bert_model/bert/pooler/dense/kernel:0', 'tf_bert_model/bert/pooler/dense/bias:0'] when minimizing the loss.\n",
      "WARNING:tensorflow:Gradients do not exist for variables ['tf_bert_model/bert/pooler/dense/kernel:0', 'tf_bert_model/bert/pooler/dense/bias:0'] when minimizing the loss.\n",
      "INFO:tensorflow:batch_all_reduce: 198 all-reduces with algorithm = nccl, num_packs = 1\n",
      "WARNING:tensorflow:Efficient allreduce is not supported for 3 IndexedSlices\n",
      "INFO:tensorflow:Reduce to /job:localhost/replica:0/task:0/device:GPU:0 then broadcast to ('/job:localhost/replica:0/task:0/device:GPU:0', '/job:localhost/replica:0/task:0/device:GPU:1', '/job:localhost/replica:0/task:0/device:GPU:2', '/job:localhost/replica:0/task:0/device:GPU:3').\n",
      "INFO:tensorflow:Reduce to /job:localhost/replica:0/task:0/device:GPU:0 then broadcast to ('/job:localhost/replica:0/task:0/device:GPU:0', '/job:localhost/replica:0/task:0/device:GPU:1', '/job:localhost/replica:0/task:0/device:GPU:2', '/job:localhost/replica:0/task:0/device:GPU:3').\n",
      "INFO:tensorflow:Reduce to /job:localhost/replica:0/task:0/device:GPU:0 then broadcast to ('/job:localhost/replica:0/task:0/device:GPU:0', '/job:localhost/replica:0/task:0/device:GPU:1', '/job:localhost/replica:0/task:0/device:GPU:2', '/job:localhost/replica:0/task:0/device:GPU:3').\n",
      "WARNING:tensorflow:Gradients do not exist for variables ['tf_bert_model/bert/pooler/dense/kernel:0', 'tf_bert_model/bert/pooler/dense/bias:0'] when minimizing the loss.\n",
      "WARNING:tensorflow:Gradients do not exist for variables ['tf_bert_model/bert/pooler/dense/kernel:0', 'tf_bert_model/bert/pooler/dense/bias:0'] when minimizing the loss.\n",
      "WARNING:tensorflow:Gradients do not exist for variables ['tf_bert_model/bert/pooler/dense/kernel:0', 'tf_bert_model/bert/pooler/dense/bias:0'] when minimizing the loss.\n",
      "WARNING:tensorflow:Gradients do not exist for variables ['tf_bert_model/bert/pooler/dense/kernel:0', 'tf_bert_model/bert/pooler/dense/bias:0'] when minimizing the loss.\n",
      "INFO:tensorflow:Reduce to /job:localhost/replica:0/task:0/device:CPU:0 then broadcast to ('/job:localhost/replica:0/task:0/device:CPU:0',).\n",
      "INFO:tensorflow:Reduce to /job:localhost/replica:0/task:0/device:CPU:0 then broadcast to ('/job:localhost/replica:0/task:0/device:CPU:0',).\n",
      "INFO:tensorflow:Reduce to /job:localhost/replica:0/task:0/device:CPU:0 then broadcast to ('/job:localhost/replica:0/task:0/device:CPU:0',).\n",
      "INFO:tensorflow:Reduce to /job:localhost/replica:0/task:0/device:CPU:0 then broadcast to ('/job:localhost/replica:0/task:0/device:CPU:0',).\n",
      "WARNING:tensorflow:Gradients do not exist for variables ['tf_bert_model/bert/pooler/dense/kernel:0', 'tf_bert_model/bert/pooler/dense/bias:0'] when minimizing the loss.\n",
      "WARNING:tensorflow:Gradients do not exist for variables ['tf_bert_model/bert/pooler/dense/kernel:0', 'tf_bert_model/bert/pooler/dense/bias:0'] when minimizing the loss.\n",
      "WARNING:tensorflow:Gradients do not exist for variables ['tf_bert_model/bert/pooler/dense/kernel:0', 'tf_bert_model/bert/pooler/dense/bias:0'] when minimizing the loss.\n",
      "WARNING:tensorflow:Gradients do not exist for variables ['tf_bert_model/bert/pooler/dense/kernel:0', 'tf_bert_model/bert/pooler/dense/bias:0'] when minimizing the loss.\n",
      "INFO:tensorflow:batch_all_reduce: 198 all-reduces with algorithm = nccl, num_packs = 1\n",
      "WARNING:tensorflow:Efficient allreduce is not supported for 3 IndexedSlices\n",
      "INFO:tensorflow:Reduce to /job:localhost/replica:0/task:0/device:GPU:0 then broadcast to ('/job:localhost/replica:0/task:0/device:GPU:0', '/job:localhost/replica:0/task:0/device:GPU:1', '/job:localhost/replica:0/task:0/device:GPU:2', '/job:localhost/replica:0/task:0/device:GPU:3').\n",
      "INFO:tensorflow:Reduce to /job:localhost/replica:0/task:0/device:GPU:0 then broadcast to ('/job:localhost/replica:0/task:0/device:GPU:0', '/job:localhost/replica:0/task:0/device:GPU:1', '/job:localhost/replica:0/task:0/device:GPU:2', '/job:localhost/replica:0/task:0/device:GPU:3').\n",
      "INFO:tensorflow:Reduce to /job:localhost/replica:0/task:0/device:GPU:0 then broadcast to ('/job:localhost/replica:0/task:0/device:GPU:0', '/job:localhost/replica:0/task:0/device:GPU:1', '/job:localhost/replica:0/task:0/device:GPU:2', '/job:localhost/replica:0/task:0/device:GPU:3').\n",
      "WARNING:tensorflow:Gradients do not exist for variables ['tf_bert_model/bert/pooler/dense/kernel:0', 'tf_bert_model/bert/pooler/dense/bias:0'] when minimizing the loss.\n",
      "WARNING:tensorflow:Gradients do not exist for variables ['tf_bert_model/bert/pooler/dense/kernel:0', 'tf_bert_model/bert/pooler/dense/bias:0'] when minimizing the loss.\n",
      "WARNING:tensorflow:Gradients do not exist for variables ['tf_bert_model/bert/pooler/dense/kernel:0', 'tf_bert_model/bert/pooler/dense/bias:0'] when minimizing the loss.\n",
      "WARNING:tensorflow:Gradients do not exist for variables ['tf_bert_model/bert/pooler/dense/kernel:0', 'tf_bert_model/bert/pooler/dense/bias:0'] when minimizing the loss.\n",
      "INFO:tensorflow:Reduce to /job:localhost/replica:0/task:0/device:CPU:0 then broadcast to ('/job:localhost/replica:0/task:0/device:CPU:0',).\n",
      "INFO:tensorflow:Reduce to /job:localhost/replica:0/task:0/device:CPU:0 then broadcast to ('/job:localhost/replica:0/task:0/device:CPU:0',).\n",
      "INFO:tensorflow:Reduce to /job:localhost/replica:0/task:0/device:CPU:0 then broadcast to ('/job:localhost/replica:0/task:0/device:CPU:0',).\n",
      "INFO:tensorflow:Reduce to /job:localhost/replica:0/task:0/device:CPU:0 then broadcast to ('/job:localhost/replica:0/task:0/device:CPU:0',).\n",
      "230/230 [==============================] - ETA: 0s - accuracy: 0.7001 - loss: 0.5645INFO:tensorflow:Reduce to /job:localhost/replica:0/task:0/device:CPU:0 then broadcast to ('/job:localhost/replica:0/task:0/device:CPU:0',).\n",
      "INFO:tensorflow:Reduce to /job:localhost/replica:0/task:0/device:CPU:0 then broadcast to ('/job:localhost/replica:0/task:0/device:CPU:0',).\n",
      "230/230 [==============================] - 166s 722ms/step - accuracy: 0.7001 - loss: 0.5645 - val_accuracy: 0.7181 - val_loss: 0.5276\n",
      "Epoch 2/2\n",
      "230/230 [==============================] - 146s 633ms/step - accuracy: 0.7744 - loss: 0.4694 - val_accuracy: 0.7647 - val_loss: 0.4964\n"
     ]
    }
   ],
   "source": [
    "history = model.fit(x_train, y_train,\n",
    "                    epochs=dl_config.epochs,\n",
    "                    batch_size=dl_config.batch_size,\n",
    "                    validation_data=(x_val, y_val),\n",
    "                    callbacks=keras_callbacks)\n",
    "\n",
    "if dl_config.keras_callbacks:\n",
    "    model.load_weights(checkpoint_path)"
   ]
  },
  {
   "cell_type": "markdown",
   "metadata": {},
   "source": [
    "## Evaluation"
   ]
  },
  {
   "cell_type": "code",
   "execution_count": 23,
   "metadata": {},
   "outputs": [],
   "source": [
    "train_loss, dl_config.train_acc = model.evaluate(x_train, y_train, verbose=0)"
   ]
  },
  {
   "cell_type": "code",
   "execution_count": 24,
   "metadata": {},
   "outputs": [
    {
     "name": "stdout",
     "output_type": "stream",
     "text": [
      "Training Loss: 0.330\n",
      "Training Accuracy: 0.857\n"
     ]
    },
    {
     "data": {
      "image/png": "[encoded data removed]",
      "text/plain": [
       "<Figure size 936x360 with 2 Axes>"
      ]
     },
     "metadata": {
      "needs_background": "light"
     },
     "output_type": "display_data"
    }
   ],
   "source": [
    "print('Training Loss: %.3f' % (train_loss))\n",
    "print('Training Accuracy: %.3f' % (dl_config.train_acc))\n",
    "\n",
    "plot_training_history(history_dict = history, dl_config=dl_config)"
   ]
  },
  {
   "cell_type": "markdown",
   "metadata": {},
   "source": [
    "# Test Set"
   ]
  },
  {
   "cell_type": "markdown",
   "metadata": {},
   "source": [
    "### Load Data"
   ]
  },
  {
   "cell_type": "code",
   "execution_count": 25,
   "metadata": {},
   "outputs": [],
   "source": [
    "docs_test = bioc_to_docs(test_dataset_path, dl_config=dl_config)\n",
    "relevances_test = bioc_to_relevances(test_dataset_path, 'protein-protein')\n",
    "\n",
    "x_test_df = docs_to_pandasdocs(docs_test)\n",
    "y_test_df = relevances_to_pandas(x_test_df, relevances_test)"
   ]
  },
  {
   "cell_type": "markdown",
   "metadata": {},
   "source": [
    "### Preprocessing"
   ]
  },
  {
   "cell_type": "code",
   "execution_count": 26,
   "metadata": {},
   "outputs": [],
   "source": [
    "x_test, y_test = Bert_preprocessing(x_test_df, y_test_df, dl_config,\n",
    "                                    nmr_sentences=dl_config.nmr_sentences)"
   ]
  },
  {
   "cell_type": "markdown",
   "metadata": {},
   "source": [
    "### Predictions"
   ]
  },
  {
   "cell_type": "code",
   "execution_count": 27,
   "metadata": {},
   "outputs": [],
   "source": [
    "yhat_probs = model.predict(x_test, verbose=0)\n",
    "yhat_probs = yhat_probs[:, 0]\n",
    "\n",
    "yhat_classes = np.where(yhat_probs > 0.5, 1, yhat_probs)\n",
    "yhat_classes = np.where(yhat_classes < 0.5, 0, yhat_classes).astype(np.int64)"
   ]
  },
  {
   "cell_type": "markdown",
   "metadata": {},
   "source": [
    "### Evaluation"
   ]
  },
  {
   "cell_type": "markdown",
   "metadata": {},
   "source": [
    "### ROC and Precision-Recall Curves"
   ]
  },
  {
   "cell_type": "code",
   "execution_count": 28,
   "metadata": {},
   "outputs": [
    {
     "data": {
      "image/png": "[encoded data removed]",
      "text/plain": [
       "<Figure size 936x360 with 2 Axes>"
      ]
     },
     "metadata": {
      "needs_background": "light"
     },
     "output_type": "display_data"
    }
   ],
   "source": [
    "dl_config.test_roc_auc, dl_config.test_pr_auc = plot_roc_n_pr_curves(y_test, yhat_probs,dl_config = dl_config)"
   ]
  },
  {
   "cell_type": "code",
   "execution_count": 29,
   "metadata": {
    "scrolled": true
   },
   "outputs": [
    {
     "name": "stdout",
     "output_type": "stream",
     "text": [
      "Average Precision: 0.704661\n",
      "Accuracy: 0.629993\n",
      "Precision: 0.592632\n",
      "Recall: 0.799716\n",
      "F1 score: 0.680774\n",
      "ROC AUC: 0.710280\n",
      "PR AUC: 0.704194\n",
      "Cohens kappa: 0.263238\n",
      "MCC: 0.280267\n",
      "Confusion Matrix:\n",
      " [[336 387]\n",
      " [141 563]] \n",
      "\n"
     ]
    }
   ],
   "source": [
    "dl_config.test_avg_prec  = average_precision(y_test_df, yhat_probs)\n",
    "print('Average Precision: %f' % dl_config.test_avg_prec)\n",
    "\n",
    "# accuracy: (tp + tn) / (p + n)\n",
    "dl_config.test_acc = accuracy_score(y_test, yhat_classes)\n",
    "print('Accuracy: %f' % dl_config.test_acc)\n",
    "\n",
    "# precision tp / (tp + fp)\n",
    "dl_config.test_prec = precision_score(y_test, yhat_classes)\n",
    "print('Precision: %f' % dl_config.test_prec)\n",
    "\n",
    "# recall: tp / (tp + fn)\n",
    "dl_config.test_recall = recall_score(y_test, yhat_classes)\n",
    "print('Recall: %f' % dl_config.test_recall)\n",
    "\n",
    "# f1: 2 tp / (2 tp + fp + fn)\n",
    "dl_config.test_f1_score = f1_score(y_test, yhat_classes)\n",
    "print('F1 score: %f' % dl_config.test_f1_score)\n",
    "\n",
    "# ROC AUC\n",
    "print('ROC AUC: %f' % dl_config.test_roc_auc)\n",
    "\n",
    "# PR AUC\n",
    "print('PR AUC: %f' % dl_config.test_pr_auc)\n",
    "\n",
    "# kappa\n",
    "dl_config.test_kappa = cohen_kappa_score(y_test, yhat_classes)\n",
    "print('Cohens kappa: %f' % dl_config.test_kappa)\n",
    "\n",
    "dl_config.test_mcc = matthews_corrcoef(y_test, yhat_classes)\n",
    "print('MCC: %f' % dl_config.test_mcc)\n",
    "\n",
    "# confusion matrix\n",
    "matrix = confusion_matrix(y_test, yhat_classes)\n",
    "print('Confusion Matrix:\\n %s \\n' % matrix)\n",
    "\n",
    "dl_config.test_true_neg, dl_config.test_false_pos, dl_config.test_false_neg, dl_config.test_true_pos = confusion_matrix(\n",
    "                                                                                                y_test, yhat_classes).ravel()"
   ]
  },
  {
   "cell_type": "markdown",
   "metadata": {},
   "source": [
    "## Model ID"
   ]
  },
  {
   "cell_type": "code",
   "execution_count": 30,
   "metadata": {},
   "outputs": [
    {
     "data": {
      "text/plain": [
       "'bluebert_ft_1'"
      ]
     },
     "execution_count": 30,
     "metadata": {},
     "output_type": "execute_result"
    }
   ],
   "source": [
    "dl_config.model_id"
   ]
  },
  {
   "cell_type": "markdown",
   "metadata": {},
   "source": [
    "## Save DL_config"
   ]
  },
  {
   "cell_type": "code",
   "execution_count": 31,
   "metadata": {},
   "outputs": [],
   "source": [
    "dl_config.save()"
   ]
  },
  {
   "cell_type": "code",
   "execution_count": 32,
   "metadata": {},
   "outputs": [
    {
     "data": {
      "text/plain": [
       "PosixPath('../pipelines/models/bluebert_ft/bluebert_ft_1/config.txt')"
      ]
     },
     "execution_count": 32,
     "metadata": {},
     "output_type": "execute_result"
    }
   ],
   "source": [
    "dl_config.path"
   ]
  },
  {
   "cell_type": "markdown",
   "metadata": {},
   "source": [
    "## Write Results"
   ]
  },
  {
   "cell_type": "code",
   "execution_count": 33,
   "metadata": {},
   "outputs": [
    {
     "name": "stdout",
     "output_type": "stream",
     "text": [
      "{'model_id': ['bluebert_ft_1'], 'max_sent_len': [512], 'max_nb_words': [None], 'max_nb_sentences': [None], 'nmr_sentences': ['True'], 'embeddings': [None], 'embedding_dim': [None], 'embedding_format': [None], 'stop_words': ['No'], 'padding': ['post'], 'truncating': ['post'], 'oov_token': [None], 'lower': ['True'], 'remove_punctuation': ['False'], 'split_by_hyphen': ['False'], 'lemmatization': ['False'], 'stems': ['False'], 'seed_value': [123123], 'epochs': [2], 'batch_size': [16], 'learning_rate': [5e-05], 'validation_percentage': [10], 'patience': [None], 'keras_callbacks': ['False'], 'train_acc': [0.8573761582374573], 'train_f1_score': [None], 'test_avg_prec': [0.7046612886255502], 'test_acc': [0.6299929922915207], 'test_prec': [0.5926315789473684], 'test_recall': [0.7997159090909091], 'test_f1_score': [0.6807738814993954], 'test_roc_auc': [0.7102803187476423], 'test_pr_auc': [0.7041939156040624], 'test_kappa': [0.2632375632909535], 'test_mcc': [0.28026690398910004], 'test_true_neg': [336], 'test_false_pos': [387], 'test_false_neg': [141], 'test_true_pos': [563]}\n"
     ]
    }
   ],
   "source": [
    "dl_config.write_report()"
   ]
  },
  {
   "cell_type": "markdown",
   "metadata": {},
   "source": [
    "### Model Save"
   ]
  },
  {
   "cell_type": "code",
   "execution_count": 34,
   "metadata": {},
   "outputs": [
    {
     "name": "stdout",
     "output_type": "stream",
     "text": [
      "WARNING:tensorflow:From /home/malves/miniconda3/envs/biotmpygpu/lib/python3.8/site-packages/tensorflow/python/ops/resource_variable_ops.py:1813: calling BaseResourceVariable.__init__ (from tensorflow.python.ops.resource_variable_ops) with constraint is deprecated and will be removed in a future version.\n",
      "Instructions for updating:\n",
      "If using Keras pass *_constraint arguments to layers.\n",
      "INFO:tensorflow:Assets written to: ../pipelines/models/bluebert_ft/bluebert_ft_1/model_tf/assets\n"
     ]
    }
   ],
   "source": [
    "model.save(dl_config.model_id_path / 'model_tf', save_format = 'tf')"
   ]
  }
 ],
 "metadata": {
  "kernelspec": {
   "display_name": "Python 3",
   "language": "python",
   "name": "python3"
  },
  "language_info": {
   "codemirror_mode": {
    "name": "ipython",
    "version": 3
   },
   "file_extension": ".py",
   "mimetype": "text/x-python",
   "name": "python",
   "nbconvert_exporter": "python",
   "pygments_lexer": "ipython3",
   "version": "3.8.5"
  }
 },
 "nbformat": 4,
 "nbformat_minor": 2
}
