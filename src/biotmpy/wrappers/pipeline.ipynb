{
 "cells": [
  {
   "cell_type": "code",
   "execution_count": null,
   "metadata": {},
   "outputs": [],
   "source": []
  },
  {
   "cell_type": "code",
   "execution_count": null,
   "metadata": {},
   "outputs": [],
   "source": [
    "papers_mtb = pmc_to_papers('Mycobacterium tuberculosis')"
   ]
  },
  {
   "cell_type": "code",
   "execution_count": null,
   "metadata": {},
   "outputs": [],
   "source": [
    "papers_mtb = pmc_to_papers('Mycobacterium tuberculosis')"
   ]
  },
  {
   "cell_type": "code",
   "execution_count": null,
   "metadata": {},
   "outputs": [],
   "source": [
    "len(papers_tuberculosis)"
   ]
  },
  {
   "cell_type": "code",
   "execution_count": null,
   "metadata": {},
   "outputs": [],
   "source": []
  },
  {
   "cell_type": "code",
   "execution_count": null,
   "metadata": {},
   "outputs": [],
   "source": [
    "len(papers_mtb)"
   ]
  },
  {
   "cell_type": "code",
   "execution_count": null,
   "metadata": {},
   "outputs": [],
   "source": [
    "print(papers_mtb)"
   ]
  },
  {
   "cell_type": "code",
   "execution_count": null,
   "metadata": {},
   "outputs": [],
   "source": [
    "print(papers_tuberculosis)"
   ]
  },
  {
   "attachments": {},
   "cell_type": "markdown",
   "metadata": {},
   "source": [
    "## Annotations"
   ]
  },
  {
   "cell_type": "code",
   "execution_count": 270,
   "metadata": {},
   "outputs": [
    {
     "data": {
      "text/plain": [
       "{'Diseases': ['tuberculosis', 'drug-resistant tuberculosis', 'curb'],\n",
       " 'Chemicals': ['linezolid',\n",
       "  'bedaquiline',\n",
       "  'clofazimine',\n",
       "  'nitroimidazoles',\n",
       "  'pyrazinamide'],\n",
       " 'Gene_Proteins': [],\n",
       " 'Organisms': []}"
      ]
     },
     "execution_count": 270,
     "metadata": {},
     "output_type": "execute_result"
    }
   ],
   "source": [
    "papers_tuberculosis[0].annotations"
   ]
  },
  {
   "cell_type": "code",
   "execution_count": 271,
   "metadata": {},
   "outputs": [
    {
     "data": {
      "text/plain": [
       "{'Diseases': [], 'Chemicals': [], 'Gene_Proteins': [], 'Organisms': []}"
      ]
     },
     "execution_count": 271,
     "metadata": {},
     "output_type": "execute_result"
    }
   ],
   "source": [
    "papers_mtb[1].annotations"
   ]
  },
  {
   "cell_type": "code",
   "execution_count": null,
   "metadata": {},
   "outputs": [],
   "source": []
  },
  {
   "cell_type": "code",
   "execution_count": null,
   "metadata": {},
   "outputs": [],
   "source": []
  },
  {
   "cell_type": "code",
   "execution_count": 260,
   "metadata": {},
   "outputs": [],
   "source": [
    "with open('papers_mtb_annotated.pkl', 'rb') as file:\n",
    "    paper_instances = pickle.load(file)\n"
   ]
  },
  {
   "cell_type": "code",
   "execution_count": 261,
   "metadata": {},
   "outputs": [],
   "source": [
    "def process_paper_instances(target_id, paper_instances):\n",
    "    results = []\n",
    "\n",
    "    for paper in paper_instances:\n",
    "        if paper.id == target_id:\n",
    "            doc_bionlp13cg = nlp_bionlp13cg(paper.title_abstract)\n",
    "            doc_bc5cdr = nlp_bc5cdr(paper.title_abstract)\n",
    "\n",
    "            print(\"Title:\", paper.title)\n",
    "\n",
    "            unique_annotations = set()\n",
    "\n",
    "            for exact in doc_bionlp13cg.ents:\n",
    "                annotation = (exact.text, exact.label_)\n",
    "                if annotation not in unique_annotations:\n",
    "                    unique_annotations.add(annotation)\n",
    "                    print(exact.text, exact.label_)\n",
    "                    if exact.label_ == 'CHEMICAL':\n",
    "                        if exact.text.lower().rstrip() not in paper.annotations_scispacy['Chemicals']:\n",
    "                            paper.annotations_scispacy['Chemicals'].append(exact.text.lower().rstrip())\n",
    "                        if exact.label_ == 'DISEASE':\n",
    "                            if exact.text not in paper.annotations_scispacy['Diseases']:\n",
    "                                paper.annotations_scispacy['Diseases'].append(exact.text)\n",
    "                        if exact.label_ == 'GENE_OR_GENE_PRODUCT':\n",
    "                            if exact.text.lower().rstrip() not in paper.annotations_scispacy['Chemicals']:\n",
    "                                paper.annotations_scispacy['Chemicals'].append(exact.text.lower().rstrip())\n",
    "                        elif exact.label_ == 'ORGANISM':\n",
    "                            if exact.text.lower().rstrip() not in paper.annotations_scispacy['Organisms']:\n",
    "                                paper.annotations_scispacy['Chemicals'].append(exact.text.lower().rstrip())\n",
    "\n",
    "\n",
    "            for exact in doc_bc5cdr.ents:\n",
    "                annotation = (exact.text, exact.label_)\n",
    "                if annotation not in unique_annotations:\n",
    "                    unique_annotations.add(annotation)\n",
    "                    print(exact.text, exact.label_)\n",
    "                    if exact.label_ == 'CHEMICAL':\n",
    "                        if exact.text.lower().rstrip() not in paper.annotations_scispacy['Chemicals']:\n",
    "                            paper.annotations_scispacy['Chemicals'].append(exact.text.lower().rstrip())\n",
    "                    elif exact.label_ == 'DISEASE':\n",
    "                        if exact.text not in paper.annotations_scispacy['Diseases']:\n",
    "                            paper.annotations_scispacy['Diseases'].append(exact.text)\n",
    "            \n",
    "            paper_results = {\n",
    "                'title': paper.title,\n",
    "                'abstract': paper.abstract,\n",
    "                'entities': []\n",
    "            }\n",
    "\n",
    "            for exact in doc_bionlp13cg.ents:\n",
    "                paper_results['entities'].append({\n",
    "                    'text': exact.text,\n",
    "                    'label': exact.label_\n",
    "                })\n",
    "\n",
    "            for exact in doc_bc5cdr.ents:\n",
    "                paper_results['entities'].append({\n",
    "                    'text': exact.text,\n",
    "                    'label': exact.label_\n",
    "                })\n",
    "\n",
    "            results.append(paper_results)\n",
    "            print(paper.annotations_scispacy)\n",
    "        \n",
    "            break\n",
    "\n",
    "    return results\n"
   ]
  },
  {
   "cell_type": "code",
   "execution_count": 262,
   "metadata": {},
   "outputs": [],
   "source": [
    "def get_paper_annotations(target_id, paper_instances):\n",
    "    target_paper = None\n",
    "    for paper_instance in paper_instances:\n",
    "        if paper_instance.id == target_id:\n",
    "            target_paper = paper_instance\n",
    "            break\n",
    "    \n",
    "    \n",
    "    target_paper = get_annotations(target_paper)\n",
    "    \n",
    "    diseases_annotations = target_paper.annotations['Diseases']\n",
    "    chemicals_annotations = target_paper.annotations['Chemicals']\n",
    "    gene_proteins_annotations = target_paper.annotations['Gene_Proteins']\n",
    "    organisms_annotations = target_paper.annotations['Organisms']\n",
    "    \n",
    "    print(\"Diseases Annotations:\", diseases_annotations)\n",
    "    print(\"Chemicals Annotations:\", chemicals_annotations)\n",
    "    print(\"Gene/Proteins Annotations:\", gene_proteins_annotations)\n",
    "    print(\"Organisms Annotations:\", organisms_annotations)\n"
   ]
  },
  {
   "cell_type": "code",
   "execution_count": 273,
   "metadata": {},
   "outputs": [
    {
     "name": "stdout",
     "output_type": "stream",
     "text": [
      "Title: Long-term economic evaluation of the recombinant <i>Mycobacterium tuberculosis</i> fusion protein (EC) test for the diagnosis of <i>Mycobacterium tuberculosis</i> infection.\n",
      "EC CELL\n",
      "Background:</b GENE_OR_GENE_PRODUCT\n",
      "tuberculin (TB-PPD) GENE_OR_GENE_PRODUCT\n",
      "skin ORGAN\n",
      "b>Objective:</b GENE_OR_GENE_PRODUCT\n",
      "TB-PPD GENE_OR_GENE_PRODUCT\n",
      "b>Methods:</b GENE_OR_GENE_PRODUCT\n",
      "people ORGANISM\n",
      "tuberculosis</i>. GENE_OR_GENE_PRODUCT\n",
      "tree-Markov GENE_OR_GENE_PRODUCT\n",
      "b>Results:</b GENE_OR_GENE_PRODUCT\n",
      "-119,800.7381 CNY/QALY GENE_OR_GENE_PRODUCT\n",
      "b>Conclusion:</b GENE_OR_GENE_PRODUCT\n",
      "Mycobacterium CHEMICAL\n",
      "Tuberculosis DISEASE\n",
      "TB-PPD DISEASE\n",
      "tuberculosis DISEASE\n",
      "infection DISEASE\n",
      "{'Diseases': ['Tuberculosis', 'TB-PPD', 'tuberculosis', 'infection'], 'Chemicals': ['mycobacterium'], 'Gene_Proteins': [], 'Organisms': []}\n",
      "\n",
      "\n",
      "Diseases Annotations: ['tuberculosis', 'infection']\n",
      "Chemicals Annotations: []\n",
      "Gene/Proteins Annotations: ['ppd']\n",
      "Organisms Annotations: ['mycobacterium tuberculosis', 'm. tuberculosis']\n",
      "Different annotations for 'Diseases': {'tuberculosis'}\n",
      "Different annotations for 'Chemicals': {'citric acid', 'rapamycin', 'bafilomycin a1'}\n",
      "Different annotations for 'Gene_Proteins': {'ulk1', 'pi3k', 'tlr4', 'mapk', 'etc', 'mtor', 'jnk1'}\n",
      "Different annotations for 'Organisms': {'mycobacterium tuberculosis'}\n",
      "None\n"
     ]
    }
   ],
   "source": [
    "target_id = \"37261290\"\n",
    "results = process_paper_instances(target_id, paper_instances)\n",
    "print(\"\\n\")\n",
    "get_paper_annotations(target_id, paper_instances)\n",
    "print(paper_instances[0].compare_annotations())"
   ]
  },
  {
   "cell_type": "code",
   "execution_count": null,
   "metadata": {},
   "outputs": [],
   "source": [
    "print(results)"
   ]
  },
  {
   "cell_type": "code",
   "execution_count": null,
   "metadata": {},
   "outputs": [],
   "source": [
    "target_id = \"PPR639016\"\n",
    "results = process_paper_instances(target_id, paper_instances)\n",
    "print(\"\\n\")\n",
    "get_paper_annotations(target_id, paper_instances)"
   ]
  },
  {
   "cell_type": "code",
   "execution_count": null,
   "metadata": {},
   "outputs": [],
   "source": [
    "target_id = \"36118045\"\n",
    "results = process_paper_instances(target_id, paper_instances)\n",
    "print(\"\\n\")\n",
    "get_paper_annotations(target_id, paper_instances)"
   ]
  },
  {
   "cell_type": "code",
   "execution_count": null,
   "metadata": {},
   "outputs": [],
   "source": [
    "target_id = \"36620019\"\n",
    "results = process_paper_instances(target_id, paper_instances)\n",
    "print(\"\\n\")\n",
    "get_paper_annotations(target_id, paper_instances)"
   ]
  },
  {
   "cell_type": "code",
   "execution_count": null,
   "metadata": {},
   "outputs": [],
   "source": [
    "target_id = \"37250168\"\n",
    "results = process_paper_instances(target_id, paper_instances)\n",
    "print(\"\\n\")\n",
    "get_paper_annotations(target_id, paper_instances)"
   ]
  },
  {
   "cell_type": "code",
   "execution_count": null,
   "metadata": {},
   "outputs": [],
   "source": [
    "target_id = \"EA004794\"\n",
    "results = process_paper_instances(target_id, paper_instances)\n",
    "print(\"\\n\")\n",
    "get_paper_annotations(target_id, paper_instances)"
   ]
  },
  {
   "cell_type": "code",
   "execution_count": null,
   "metadata": {
    "scrolled": false
   },
   "outputs": [],
   "source": [
    "papers_tuberculosis = get_annotations_paper_instances(papers_tuberculosis)\n",
    "with open ('tb_papers_annotated.pkl', 'wb') as f:\n",
    "    pickle.dump(papers_tuberculosis, f)"
   ]
  },
  {
   "cell_type": "code",
   "execution_count": null,
   "metadata": {},
   "outputs": [],
   "source": [
    "%load_ext autoreload\n",
    "%autoreload 2"
   ]
  },
  {
   "cell_type": "code",
   "execution_count": null,
   "metadata": {},
   "outputs": [],
   "source": [
    "from europePMC_wrapper import *\n",
    "import pandas as pd\n",
    "import pickle\n",
    "\n",
    "from wordcloud import WordCloud\n",
    "import matplotlib.pyplot as plt\n",
    "import pandas as pd\n",
    "\n",
    "import scispacy\n",
    "import spacy \n",
    "\n",
    "\n",
    "nlp_bc5cdr = spacy.load(\"en_ner_bc5cdr_md\")\n",
    "\n",
    "nlp_bionlp13cg = spacy.load(\"en_ner_bionlp13cg_md\")\n"
   ]
  },
  {
   "attachments": {},
   "cell_type": "markdown",
   "metadata": {},
   "source": [
    "## Acesss Europe PMC API"
   ]
  },
  {
   "attachments": {},
   "cell_type": "markdown",
   "metadata": {},
   "source": [
    "Article Extraction with the Keyword \"Tuberculosis\""
   ]
  },
  {
   "cell_type": "code",
   "execution_count": null,
   "metadata": {
    "scrolled": false
   },
   "outputs": [],
   "source": [
    "papers_tuberculosis = pmc_to_papers('tuberculosis')"
   ]
  },
  {
   "attachments": {},
   "cell_type": "markdown",
   "metadata": {},
   "source": [
    "Article Extraction with the Keyword \"Mycobacterium tuberculosis\""
   ]
  },
  {
   "cell_type": "code",
   "execution_count": null,
   "metadata": {},
   "outputs": [],
   "source": [
    "papers_mtb = get_annotations_paper_instances(papers_mtb)\n",
    "with open ('papers_mtb_annotated.pkl', 'wb') as f:\n",
    "    pickle.dump(papers_mtb, f)"
   ]
  },
  {
   "cell_type": "code",
   "execution_count": null,
   "metadata": {},
   "outputs": [],
   "source": [
    "data = {'id':[], 'title':[], 'abstract':[], 'title_abstract':[], 'keyword':[]}"
   ]
  },
  {
   "cell_type": "code",
   "execution_count": null,
   "metadata": {},
   "outputs": [],
   "source": [
    "for paper in papers_tuberculosis:\n",
    "    data['id'].append(paper.id)\n",
    "    data['title'].append(paper.title)\n",
    "    data['abstract'].append(paper.abstract)\n",
    "    data['title_abstract'].append(paper.title_abstract)\n",
    "    data['keyword'].append(paper.query_keyword)\n"
   ]
  },
  {
   "cell_type": "code",
   "execution_count": null,
   "metadata": {},
   "outputs": [],
   "source": [
    "for paper in papers_mtb:\n",
    "    data['id'].append(paper.id)\n",
    "    data['title'].append(paper.title)\n",
    "    data['abstract'].append(paper.abstract)\n",
    "    data['title_abstract'].append(paper.title_abstract)\n",
    "    data['keyword'].append(paper.query_keyword)\n"
   ]
  },
  {
   "attachments": {},
   "cell_type": "markdown",
   "metadata": {},
   "source": [
    "Creation of a data frame with the articles:"
   ]
  },
  {
   "cell_type": "code",
   "execution_count": null,
   "metadata": {},
   "outputs": [],
   "source": [
    "df = pd.DataFrame(data=data)"
   ]
  },
  {
   "cell_type": "code",
   "execution_count": null,
   "metadata": {},
   "outputs": [],
   "source": [
    "df"
   ]
  },
  {
   "cell_type": "code",
   "execution_count": null,
   "metadata": {},
   "outputs": [],
   "source": [
    "df.to_csv('dataframe_papers.csv')"
   ]
  },
  {
   "cell_type": "code",
   "execution_count": null,
   "metadata": {},
   "outputs": [],
   "source": [
    "df = pd.read_csv('dataframe_papers.csv', sep=',', index_col=0)"
   ]
  },
  {
   "cell_type": "code",
   "execution_count": null,
   "metadata": {},
   "outputs": [],
   "source": [
    "%matplotlib inline"
   ]
  },
  {
   "attachments": {},
   "cell_type": "markdown",
   "metadata": {},
   "source": [
    "## ScispaCy annotation"
   ]
  },
  {
   "attachments": {},
   "cell_type": "markdown",
   "metadata": {},
   "source": [
    "# Comparar resultados:"
   ]
  },
  {
   "cell_type": "code",
   "execution_count": null,
   "metadata": {},
   "outputs": [],
   "source": [
    "papers_mtb[2222].annotations"
   ]
  },
  {
   "cell_type": "code",
   "execution_count": null,
   "metadata": {},
   "outputs": [],
   "source": [
    "print(papers_mtb[2222].annotations)\n",
    "print(papers_mtb[2222].annotations_scispacy)\n",
    "papers_mtb[2222].compare_annotations()"
   ]
  },
  {
   "cell_type": "code",
   "execution_count": null,
   "metadata": {},
   "outputs": [],
   "source": [
    "print(papers_tuberculosis[0].annotations)\n",
    "print(papers_tuberculosis[0].annotations_scispacy)\n",
    "papers_tuberculosis[0].compare_annotations()"
   ]
  },
  {
   "attachments": {},
   "cell_type": "markdown",
   "metadata": {},
   "source": []
  },
  {
   "attachments": {},
   "cell_type": "markdown",
   "metadata": {},
   "source": []
  },
  {
   "attachments": {},
   "cell_type": "markdown",
   "metadata": {},
   "source": []
  },
  {
   "attachments": {},
   "cell_type": "markdown",
   "metadata": {},
   "source": []
  },
  {
   "attachments": {},
   "cell_type": "markdown",
   "metadata": {},
   "source": []
  },
  {
   "attachments": {},
   "cell_type": "markdown",
   "metadata": {},
   "source": []
  },
  {
   "attachments": {},
   "cell_type": "markdown",
   "metadata": {},
   "source": []
  },
  {
   "attachments": {},
   "cell_type": "markdown",
   "metadata": {},
   "source": [
    "Annotations of all Articles Extracted with the Keyword:  Mycobacterium Tuberculosis "
   ]
  },
  {
   "cell_type": "code",
   "execution_count": null,
   "metadata": {},
   "outputs": [],
   "source": [
    "with open('mtb_papers_annotated.pkl', 'rb') as file:\n",
    "    paper_instances = pickle.load(file)\n",
    "\n",
    "nlp = spacy.load(\"en_ner_bc5cdr_md\")\n",
    "\n",
    "results= []\n",
    "for paper in paper_instances:\n",
    "    doc = nlp(paper.title_abstract)\n",
    "    \n",
    "    for entity in doc.ents:\n",
    "        print(entity.text, entity.label_)\n",
    "        \n",
    "        paper_results = {\n",
    "        'title': paper.title,\n",
    "        'abstract': paper.abstract,\n",
    "        'entities': []\n",
    "    }\n",
    "    for entity in doc.ents:\n",
    "        paper_results['entities'].append({\n",
    "            'text': entity.text,\n",
    "            'label': entity.label_\n",
    "        })\n",
    "\n"
   ]
  },
  {
   "attachments": {},
   "cell_type": "markdown",
   "metadata": {},
   "source": [
    "Annotations of all Articles Extracted with the Keyword:   Tuberculosis "
   ]
  },
  {
   "cell_type": "code",
   "execution_count": null,
   "metadata": {},
   "outputs": [],
   "source": [
    "with open('tb_papers_annotated.pkl', 'rb') as file:\n",
    "    paper_instances = pickle.load(file)\n",
    "\n",
    "nlp = spacy.load(\"en_ner_bc5cdr_md\")\n",
    "\n",
    "results= []\n",
    "for paper in paper_instances:\n",
    "    doc = nlp(paper.abstract)\n",
    "    \n",
    "    for entity in doc.ents:\n",
    "        print(entity.text, entity.label_)\n",
    "        \n",
    "        paper_results = {\n",
    "        'title': paper.title,\n",
    "        'abstract': paper.abstract,\n",
    "        'entities': []\n",
    "    }\n",
    "    for entity in doc.ents:\n",
    "        paper_results['entities'].append({\n",
    "            'text': entity.text,\n",
    "            'label': entity.label_\n",
    "        })\n"
   ]
  },
  {
   "attachments": {},
   "cell_type": "markdown",
   "metadata": {},
   "source": [
    "# Comparison of results"
   ]
  },
  {
   "attachments": {},
   "cell_type": "markdown",
   "metadata": {},
   "source": [
    "Comparison of results obtained using two ScispaCy models and the results obtained with europe PMC"
   ]
  },
  {
   "attachments": {},
   "cell_type": "markdown",
   "metadata": {},
   "source": [
    "Since loading and using the two models at the same time was time consuming, I decided to separate the 2 models in order to compare the results."
   ]
  },
  {
   "attachments": {},
   "cell_type": "markdown",
   "metadata": {},
   "source": [
    "Comparing the results obtained for the article __\"Rifampicin resistant Mycobacterium tuberculosis and associated factors among presumptive pulmonary tuberculosis patients in Mogadishu Somalia\"__ id: 36643204 \n",
    "\n",
    "keyword: Mycobacterium tuberculosis"
   ]
  },
  {
   "attachments": {},
   "cell_type": "markdown",
   "metadata": {},
   "source": [
    " __Using scispacy__: \n"
   ]
  },
  {
   "attachments": {},
   "cell_type": "markdown",
   "metadata": {},
   "source": [
    "For the full article"
   ]
  },
  {
   "cell_type": "code",
   "execution_count": null,
   "metadata": {},
   "outputs": [],
   "source": [
    "\n",
    "with open('paper_instances1.pickle', 'rb') as file:\n",
    "    paper_instances = pickle.load(file)\n",
    "\n",
    "nlp_bionlp13cg = spacy.load(\"en_ner_bionlp13cg_md\")\n",
    "nlp_bc5cdr = spacy.load(\"en_ner_bc5cdr_md\")\n",
    "\n",
    "target_id = \"36643204\"\n",
    "\n",
    "results = []\n",
    "\n",
    "for paper in paper_instances:\n",
    "    if paper.id == target_id:\n",
    "        doc_bionlp13cg = nlp_bionlp13cg(paper.title_abstract)\n",
    "        doc_bc5cdr = nlp_bc5cdr(paper.title_abstract)\n",
    "        \n",
    "        print(\"Title:\", paper.title)\n",
    "        \n",
    "        unique_annotations = set() \n",
    "        \n",
    "        for entity in doc_bionlp13cg.ents:\n",
    "            annotation = (entity.text, entity.label_)\n",
    "            if annotation not in unique_annotations:\n",
    "                unique_annotations.add(annotation)\n",
    "                print(entity.text, entity.label_)\n",
    "                \n",
    "        for entity in doc_bc5cdr.ents:\n",
    "            annotation = (entity.text, entity.label_)\n",
    "            if annotation not in unique_annotations:\n",
    "                unique_annotations.add(annotation)\n",
    "                print(entity.text, entity.label_)\n",
    "            \n",
    "        paper_results = {\n",
    "            'title': paper.title,\n",
    "            'abstract': paper.abstract,\n",
    "            'entities': []\n",
    "        }\n",
    "        \n",
    "        for entity in doc_bionlp13cg.ents:\n",
    "            paper_results['entities'].append({\n",
    "                'text': entity.text,\n",
    "                'label': entity.label_\n",
    "            })\n",
    "        \n",
    "        for entity in doc_bc5cdr.ents:\n",
    "            paper_results['entities'].append({\n",
    "                'text': entity.text,\n",
    "                'label': entity.label_\n",
    "            })\n",
    "        \n",
    "        results.append(paper_results)\n"
   ]
  },
  {
   "attachments": {},
   "cell_type": "markdown",
   "metadata": {},
   "source": [
    "For the scispacy Annotations"
   ]
  },
  {
   "cell_type": "code",
   "execution_count": null,
   "metadata": {},
   "outputs": [],
   "source": [
    "with open('papers_mtb_annotated.pkl', 'rb') as file:\n",
    "    papers_mtb_annotated = pickle.load(file)"
   ]
  },
  {
   "cell_type": "code",
   "execution_count": null,
   "metadata": {},
   "outputs": [],
   "source": [
    "def get_scispacy_annotations(paper_instances):\n",
    "    papers_with_scispacy_annotations = []\n",
    "\n",
    "    for paper in paper_instances:\n",
    "        doc_bc5cdr = nlp_bc5cdr(paper.title_abstract)\n",
    "        doc_bionlp13cg = nlp_bionlp13cg(paper.title_abstract)\n",
    "\n",
    "        print(\"Title:\", paper.title)\n",
    "\n",
    "        for entity in doc_bc5cdr.ents:\n",
    "            exact = entity.text.lower().rstrip()\n",
    "            if entity.label_ == 'CHEMICAL':\n",
    "                if exact not in paper.annotations_scispacy['Chemicals']:\n",
    "                    paper.annotations_scispacy['Chemicals'].append(exact)\n",
    "            elif entity.label_ == 'DISEASE':\n",
    "                if exact not in paper.annotations_scispacy['Diseases']:\n",
    "                    paper.annotations_scispacy['Diseases'].append(entity.text)\n",
    "                    papers_with_scispacy_annotations.append(paper)\n",
    "\n",
    "        for entity in doc_bionlp13cg.ents:\n",
    "            exact = entity.text.lower().rstrip()\n",
    "            if entity.label_ == 'CHEMICAL':\n",
    "                if exact not in paper.annotations_scispacy['Chemicals']:\n",
    "                    paper.annotations_scispacy['Chemicals'].append(exact)\n",
    "            elif entity.label_ == 'DISEASE':\n",
    "                if exact not in paper.annotations_scispacy['Diseases']:\n",
    "                    paper.annotations_scispacy['Diseases'].append(entity.text)\n",
    "            elif entity.label_ == 'SIMPLE_CHEMICAL':\n",
    "                if exact not in paper.annotations_scispacy['Chemicals']:\n",
    "                    paper.annotations_scispacy['Chemicals'].append(exact)\n",
    "            elif entity.label_ == 'GENE_OR_GENE_PRODUCT':\n",
    "                if exact not in paper.annotations_scispacy['Gene_Proteins']:\n",
    "                    paper.annotations_scispacy['Gene_Proteins'].append(exact)\n",
    "            elif entity.label_ == 'ORGANISM':\n",
    "                if exact not in paper.annotations_scispacy['Organisms']:\n",
    "                    paper.annotations_scispacy['Organisms'].append(exact)\n",
    "                    papers_with_scispacy_annotations.append(paper)\n",
    "        print(papers_with_scispacy_annotations)\n",
    "\n",
    "        return papers_with_scispacy_annotations\n",
    "\n",
    "                        "
   ]
  },
  {
   "cell_type": "code",
   "execution_count": null,
   "metadata": {},
   "outputs": [],
   "source": [
    "papers_with_scispacy_annotations"
   ]
  },
  {
   "cell_type": "code",
   "execution_count": null,
   "metadata": {},
   "outputs": [],
   "source": [
    "print(get_scispacy_annotations)\n"
   ]
  },
  {
   "cell_type": "code",
   "execution_count": null,
   "metadata": {},
   "outputs": [],
   "source": [
    "target_id = \"36643204\"\n",
    "\n",
    "            annotation = (entity.text, entity.label_)\n",
    "            if annotation not in unique_annotations:\n",
    "                unique_annotations.add(annotation)\n",
    "                print(entity.text, entity.label_)\n",
    "\n",
    "        for entity in doc_bionlp13cg.ents:\n",
    "            annotation = (entity.text, entity.label_)\n",
    "            if annotation not in unique_annotations:\n",
    "                unique_annotations.add(annotation)\n",
    "                print(entity.text, entity.label_)\n",
    "\n",
    "        paper_results = {\n",
    "            'title': paper.title,\n",
    "            'abstract': paper.abstract,\n",
    "            'entities': []\n",
    "        }\n",
    "\n",
    "        for entity in doc_bc5cdr.ents:\n",
    "            paper_results['entities'].append({\n",
    "                'text': entity.text,\n",
    "                'label': entity.label_\n",
    "            })\n",
    "\n",
    "        for entity in doc_bionlp13cg.ents:\n",
    "            paper_results['entities'].append({\n",
    "                'text': entity.text,\n",
    "                'label': entity.label_\n",
    "            })\n",
    "\n",
    "        results.append(paper_results)\n",
    "\n",
    "\n",
    "        # Resultados do primeiro código\n",
    "entities_bc5cdr = set()\n",
    "entities_bionlp13cg = set()\n",
    "\n",
    "for paper_result in results:\n",
    "    for entity in paper_result['entities']:\n",
    "        if entity['label'] in ['Diseases', 'Chemicals', 'Gene_Proteins', 'Organisms']:\n",
    "            entities_bc5cdr.add((entity['text'], entity['label']))\n",
    "\n",
    "        if entity['label'] in ['DISEASE', 'CHEMICAL', 'GENE_OR_GENE_PRODUCT', 'ORGANISM']:\n",
    "            entities_bionlp13cg.add((entity['text'], entity['label']))\n",
    "\n"
   ]
  },
  {
   "cell_type": "code",
   "execution_count": null,
   "metadata": {},
   "outputs": [],
   "source": [
    "papers_tuberculosis[0].compare_annotations()"
   ]
  },
  {
   "attachments": {},
   "cell_type": "markdown",
   "metadata": {},
   "source": [
    "__Using Europe PMC Annotations__"
   ]
  },
  {
   "cell_type": "code",
   "execution_count": null,
   "metadata": {},
   "outputs": [],
   "source": [
    "\n",
    "target_id = \"36643204\"\n",
    "\n",
    "\n",
    "target_paper = None\n",
    "for paper_instance in paper_instances:\n",
    "    if paper_instance.id == target_id:\n",
    "        target_paper = paper_instance\n",
    "        break\n",
    "\n",
    "print(\"Título do Artigo:\", target_paper.title)\n",
    "\n",
    "\n",
    "target_paper = get_annotations(target_paper)\n",
    "\n",
    "\n",
    "diseases_annotations = target_paper.annotations['Diseases']\n",
    "chemicals_annotations = target_paper.annotations['Chemicals']\n",
    "gene_proteins_annotations = target_paper.annotations['Gene_Proteins']\n",
    "organisms_annotations = target_paper.annotations['Organisms']\n",
    "\n",
    "\n",
    "print(\"Diseases Annotations:\", diseases_annotations)\n",
    "print(\"Chemicals Annotations:\", chemicals_annotations)\n",
    "print(\"Gene/Proteins Annotations:\", gene_proteins_annotations)\n",
    "print(\"Organisms Annotations:\", organisms_annotations)\n"
   ]
  },
  {
   "attachments": {},
   "cell_type": "markdown",
   "metadata": {},
   "source": [
    "Comparation:"
   ]
  },
  {
   "cell_type": "code",
   "execution_count": null,
   "metadata": {},
   "outputs": [],
   "source": [
    "diseases_annotations_second = set(diseases_annotations)\n",
    "diseases_annotations_first = set([entity[0] for entity in entities_bc5cdr.union(entities_bc5cdr) if entity[1] == 'Diseases'])\n",
    "\n",
    "if diseases_annotations_first == diseases_annotations_second:\n",
    "    print(\"Diseases Annotations: iguais\")\n",
    "else:\n",
    "    print(\"Diseases Annotations: diferentes\")\n",
    "\n",
    "chemicals_annotations_second = set(chemicals_annotations)\n",
    "chemicals_annotations_first = set([entity[0] for entity in entities_bc5cdr.union(entities_bc5cdr) if entity[1] == 'Chemicals'])\n",
    "\n",
    "if chemicals_annotations_first == chemicals_annotations_second:\n",
    "    print(\"Chemicals Annotations: iguais\")\n",
    "else:\n",
    "    print(\"Chemicals Annotations: diferentes\")\n",
    "\n",
    "\n",
    "gene_proteins_annotations_second = set(gene_proteins_annotations)\n",
    "gene_proteins_annotations_first = set([entity[0] for entity in entities_bc5cdr.union(entities_bionlp13cg) if entity[1] == 'Gene_Proteins'])\n",
    "\n",
    "if gene_proteins_annotations_first == gene_proteins_annotations_second:\n",
    "    print(\"Gene/Proteins Annotations: iguais\")\n",
    "else:\n",
    "    print(\"Gene/Proteins Annotations: diferentes\")\n",
    "    \n",
    "print(\"\\n\")\n",
    "print(\"The differences are:\")\n",
    "print(\"\\n\")\n",
    "\n",
    "\n",
    "organisms_annotations_second = set(organisms_annotations)\n",
    "organisms_annotations_first = set([entity[0] for entity in entities_bc5cdr.union(entities_bionlp13cg) if entity[1] == 'Organisms'])\n",
    "\n",
    "if organisms_annotations_first == organisms_annotations_second:\n",
    "    print(\"Organisms Annotations: iguais\")\n",
    "else:\n",
    "    print(\"Organisms Annotations: diferentes\")\n",
    "\n",
    "diseases_diff = diseases_annotations_second.symmetric_difference(diseases_annotations_first)\n",
    "print(\"Diferenças em Diseases Annotations:\", diseases_diff)\n",
    "\n",
    "\n",
    "chemicals_diff = chemicals_annotations_second.symmetric_difference(chemicals_annotations_first)\n",
    "print(\"Diferenças em Chemicals Annotations:\", chemicals_diff)\n",
    "\n",
    "\n",
    "gene_proteins_diff = gene_proteins_annotations_second.symmetric_difference(gene_proteins_annotations_first)\n",
    "print(\"Diferenças em Gene/Proteins Annotations:\", gene_proteins_diff)\n",
    "\n",
    "\n",
    "organisms_diff = organisms_annotations_second.symmetric_difference(organisms_annotations_first)\n",
    "print(\"Diferenças em Organisms Annotations:\", organisms_diff)\n"
   ]
  },
  {
   "attachments": {},
   "cell_type": "markdown",
   "metadata": {},
   "source": [
    "Comparing the results obtained for the article __\"The relative transmission fitness of multidrug-resistant Mycobacterium tuberculosis in a drug resistance hotspot.\"__ id: 37031225 \n",
    "\n",
    "keyword: Mycobacterium tuberculosis"
   ]
  },
  {
   "attachments": {},
   "cell_type": "markdown",
   "metadata": {},
   "source": [
    "__Using ScispaCy__"
   ]
  },
  {
   "attachments": {},
   "cell_type": "markdown",
   "metadata": {},
   "source": [
    "For the full articlle:"
   ]
  },
  {
   "cell_type": "code",
   "execution_count": null,
   "metadata": {},
   "outputs": [],
   "source": [
    "with open('papers_mtb_annotated.pickle', 'rb') as file:\n",
    "    paper_instances = pickle.load(file)\n",
    "\n",
    "\n",
    "nlp_bc5cdr = spacy.load(\"en_ner_bc5cdr_md\")\n",
    "\n",
    "\n",
    "nlp_bionlp13cg = spacy.load(\"en_ner_bionlp13cg_md\")\n",
    "\n",
    "target_id = \"37031225\"\n",
    "\n",
    "results = []\n",
    "\n",
    "for paper in paper_instances:\n",
    "    if paper.id == target_id:\n",
    "        doc_bc5cdr = nlp_bc5cdr(paper.title_abstract)\n",
    "        doc_bionlp13cg = nlp_bionlp13cg(paper.title_abstract)\n",
    "        \n",
    "        print(\"Title:\", paper.title)\n",
    "\n",
    "        unique_annotations = set()\n",
    "\n",
    "        for entity in doc_bc5cdr.ents:\n",
    "            annotation = (entity.text, entity.label_)\n",
    "            if annotation not in unique_annotations:\n",
    "                unique_annotations.add(annotation)\n",
    "                print(entity.text, entity.label_)\n",
    "\n",
    "        for entity in doc_bionlp13cg.ents:\n",
    "            annotation = (entity.text, entity.label_)\n",
    "            if annotation not in unique_annotations:\n",
    "                unique_annotations.add(annotation)\n",
    "                print(entity.text, entity.label_)\n",
    "\n",
    "        paper_results = {\n",
    "            'title': paper.title,\n",
    "            'abstract': paper.abstract,\n",
    "            'entities': []\n",
    "        }\n",
    "\n",
    "        for entity in doc_bc5cdr.ents:\n",
    "            paper_results['entities'].append({\n",
    "                'text': entity.text,\n",
    "                'label': entity.label_\n",
    "            })\n",
    "\n",
    "        for entity in doc_bionlp13cg.ents:\n",
    "            paper_results['entities'].append({\n",
    "                'text': entity.text,\n",
    "                'label': entity.label_\n",
    "            })\n",
    "\n",
    "        results.append(paper_results)"
   ]
  },
  {
   "attachments": {},
   "cell_type": "markdown",
   "metadata": {},
   "source": [
    "For the annotations:"
   ]
  },
  {
   "cell_type": "code",
   "execution_count": null,
   "metadata": {},
   "outputs": [],
   "source": [
    "with open('mtb_papers_annotated.pkl', 'rb') as file:\n",
    "    paper_instances = pickle.load(file)\n",
    "\n",
    "nlp_bc5cdr = spacy.load(\"en_ner_bc5cdr_md\")\n",
    "\n",
    "\n",
    "nlp_bionlp13cg = spacy.load(\"en_ner_bionlp13cg_md\")\n",
    "\n",
    "target_id = \"37031225\"\n",
    "\n",
    "results = []\n",
    "\n",
    "for paper in paper_instances:\n",
    "    if paper.id == target_id:\n",
    "        doc_bc5cdr = nlp_bc5cdr(paper.title_abstract)\n",
    "        doc_bionlp13cg = nlp_bionlp13cg(paper.title_abstract)\n",
    "        \n",
    "        print(\"Title:\", paper.title)\n",
    "\n",
    "        unique_annotations = set()\n",
    "\n",
    "        for entity in doc_bc5cdr.ents:\n",
    "            annotation = (entity.text, entity.label_)\n",
    "            if annotation not in unique_annotations:\n",
    "                unique_annotations.add(annotation)\n",
    "                print(entity.text, entity.label_)\n",
    "\n",
    "        for entity in doc_bionlp13cg.ents:\n",
    "            annotation = (entity.text, entity.label_)\n",
    "            if annotation not in unique_annotations:\n",
    "                unique_annotations.add(annotation)\n",
    "                print(entity.text, entity.label_)\n",
    "\n",
    "        paper_results = {\n",
    "            'title': paper.title,\n",
    "            'abstract': paper.abstract,\n",
    "            'entities': []\n",
    "        }\n",
    "\n",
    "        for entity in doc_bc5cdr.ents:\n",
    "            paper_results['entities'].append({\n",
    "                'text': entity.text,\n",
    "                'label': entity.label_\n",
    "            })\n",
    "\n",
    "        for entity in doc_bionlp13cg.ents:\n",
    "            paper_results['entities'].append({\n",
    "                'text': entity.text,\n",
    "                'label': entity.label_\n",
    "            })\n",
    "\n",
    "        results.append(paper_results)"
   ]
  },
  {
   "attachments": {},
   "cell_type": "markdown",
   "metadata": {},
   "source": [
    "__Using Europe PMC Annotations__"
   ]
  },
  {
   "cell_type": "code",
   "execution_count": null,
   "metadata": {},
   "outputs": [],
   "source": [
    "\n",
    "target_id = \"37031225\"\n",
    "\n",
    "\n",
    "target_paper = None\n",
    "for paper_instance in paper_instances:\n",
    "    if paper_instance.id == target_id:\n",
    "        target_paper = paper_instance\n",
    "        break\n",
    "\n",
    "\n",
    "print(\"Título do Artigo:\", target_paper.title)\n",
    "\n",
    "\n",
    "target_paper = get_annotations(target_paper)\n",
    "\n",
    "\n",
    "diseases_annotations = target_paper.annotations['Diseases']\n",
    "chemicals_annotations = target_paper.annotations['Chemicals']\n",
    "gene_proteins_annotations = target_paper.annotations['Gene_Proteins']\n",
    "organisms_annotations = target_paper.annotations['Organisms']\n",
    "\n",
    "\n",
    "print(\"Diseases Annotations:\", diseases_annotations)\n",
    "print(\"Chemicals Annotations:\", chemicals_annotations)\n",
    "print(\"Gene/Proteins Annotations:\", gene_proteins_annotations)\n",
    "print(\"Organisms Annotations:\", organisms_annotations)\n"
   ]
  },
  {
   "attachments": {},
   "cell_type": "markdown",
   "metadata": {},
   "source": [
    "Comparing the results obtained for the article __\"Treating latent tuberculosis infection (LTBI) with isoniazid and rifapentine (3HP) in an inner-city population with psychosocial barriers to treatment adherence:A qualitative descriptive study\"__ id: 36962068, \n",
    "\n",
    "Keyword:Tuberculosis\n"
   ]
  },
  {
   "attachments": {},
   "cell_type": "markdown",
   "metadata": {},
   "source": [
    "__Using ScispaCy__"
   ]
  },
  {
   "attachments": {},
   "cell_type": "markdown",
   "metadata": {},
   "source": [
    "For the annotations:"
   ]
  },
  {
   "cell_type": "code",
   "execution_count": null,
   "metadata": {},
   "outputs": [],
   "source": [
    "with open('papers_mtb_annotated.pkl', 'rb') as file:\n",
    "    paper_instances = pickle.load(file)\n",
    "\n",
    "nlp_bc5cdr = spacy.load(\"en_ner_bc5cdr_md\")\n",
    "\n",
    "\n",
    "nlp_bionlp13cg = spacy.load(\"en_ner_bionlp13cg_md\")\n",
    "\n",
    "target_id = \"36962068\"\n",
    "\n",
    "results = []\n",
    "\n",
    "for paper in paper_instances:\n",
    "    if paper.id == target_id:\n",
    "        doc_bc5cdr = nlp_bc5cdr(paper.title_abstract)\n",
    "        doc_bionlp13cg = nlp_bionlp13cg(paper.title_abstract)\n",
    "        \n",
    "        print(\"Title:\", paper.title)\n",
    "\n",
    "        unique_annotations = set()\n",
    "\n",
    "        for entity in doc_bc5cdr.ents:\n",
    "            annotation = (entity.text, entity.label_)\n",
    "            if annotation not in unique_annotations:\n",
    "                unique_annotations.add(annotation)\n",
    "                print(entity.text, entity.label_)\n",
    "\n",
    "        for entity in doc_bionlp13cg.ents:\n",
    "            annotation = (entity.text, entity.label_)\n",
    "            if annotation not in unique_annotations:\n",
    "                unique_annotations.add(annotation)\n",
    "                print(entity.text, entity.label_)\n",
    "\n",
    "        paper_results = {\n",
    "            'title': paper.title,\n",
    "            'abstract': paper.abstract,\n",
    "            'entities': []\n",
    "        }\n",
    "\n",
    "        for entity in doc_bc5cdr.ents:\n",
    "            paper_results['entities'].append({\n",
    "                'text': entity.text,\n",
    "                'label': entity.label_\n",
    "            })\n",
    "\n",
    "        for entity in doc_bionlp13cg.ents:\n",
    "            paper_results['entities'].append({\n",
    "                'text': entity.text,\n",
    "                'label': entity.label_\n",
    "            })\n",
    "\n",
    "        results.append(paper_results)"
   ]
  },
  {
   "attachments": {},
   "cell_type": "markdown",
   "metadata": {},
   "source": [
    "__Using Europe PMC Annotations__"
   ]
  },
  {
   "cell_type": "code",
   "execution_count": null,
   "metadata": {},
   "outputs": [],
   "source": [
    "target_id = \"36962068\"\n",
    "\n",
    "\n",
    "target_paper = None\n",
    "for paper_instance in paper_instances:\n",
    "    if paper_instance.id == target_id:\n",
    "        target_paper = paper_instance\n",
    "        break\n",
    "\n",
    "\n",
    "print(\"Título do Artigo:\", target_paper.title)\n",
    "\n",
    "\n",
    "target_paper = get_annotations(target_paper)\n",
    "\n",
    "\n",
    "diseases_annotations = target_paper.annotations['Diseases']\n",
    "chemicals_annotations = target_paper.annotations['Chemicals']\n",
    "gene_proteins_annotations = target_paper.annotations['Gene_Proteins']\n",
    "organisms_annotations = target_paper.annotations['Organisms']\n",
    "\n",
    "\n",
    "print(\"Diseases Annotations:\", diseases_annotations)\n",
    "print(\"Chemicals Annotations:\", chemicals_annotations)\n",
    "print(\"Gene/Proteins Annotations:\", gene_proteins_annotations)\n",
    "print(\"Organisms Annotations:\", organisms_annotations)"
   ]
  },
  {
   "attachments": {},
   "cell_type": "markdown",
   "metadata": {},
   "source": [
    "Comparing the results of the article __\"Impact of CYP2B6 genotype, tuberculosis therapy, and formulation on efavirenz pharmacokinetics in infants and children under 40 months of age.\"__\n",
    "id: 34873089\n",
    "Keyword: tuberculosis\n"
   ]
  },
  {
   "attachments": {},
   "cell_type": "markdown",
   "metadata": {},
   "source": [
    "__Using ScispaCy__"
   ]
  },
  {
   "attachments": {},
   "cell_type": "markdown",
   "metadata": {},
   "source": [
    "For the full article:"
   ]
  },
  {
   "cell_type": "code",
   "execution_count": null,
   "metadata": {},
   "outputs": [],
   "source": [
    "with open('paper_instances1.pickle', 'rb') as file:\n",
    "    paper_instances = pickle.load(file)\n",
    "\n",
    "\n",
    "nlp_bc5cdr = spacy.load(\"en_ner_bc5cdr_md\")\n",
    "\n",
    "\n",
    "nlp_bionlp13cg = spacy.load(\"en_ner_bionlp13cg_md\")\n",
    "\n",
    "target_id = \"34873089\"\n",
    "\n",
    "results = []\n",
    "\n",
    "for paper in paper_instances:\n",
    "    if paper.id == target_id:\n",
    "        doc_bc5cdr = nlp_bc5cdr(paper.title_abstract)\n",
    "        doc_bionlp13cg = nlp_bionlp13cg(paper.title_abstract)\n",
    "        \n",
    "        print(\"Title:\", paper.title)\n",
    "\n",
    "        unique_annotations = set()\n",
    "\n",
    "        for entity in doc_bc5cdr.ents:\n",
    "            annotation = (entity.text, entity.label_)\n",
    "            if annotation not in unique_annotations:\n",
    "                unique_annotations.add(annotation)\n",
    "                print(entity.text, entity.label_)\n",
    "\n",
    "        for entity in doc_bionlp13cg.ents:\n",
    "            annotation = (entity.text, entity.label_)\n",
    "            if annotation not in unique_annotations:\n",
    "                unique_annotations.add(annotation)\n",
    "                print(entity.text, entity.label_)\n",
    "\n",
    "        paper_results = {\n",
    "            'title': paper.title,\n",
    "            'abstract': paper.abstract,\n",
    "            'entities': []\n",
    "        }\n",
    "\n",
    "        for entity in doc_bc5cdr.ents:\n",
    "            paper_results['entities'].append({\n",
    "                'text': entity.text,\n",
    "                'label': entity.label_\n",
    "            })\n",
    "\n",
    "        for entity in doc_bionlp13cg.ents:\n",
    "            paper_results['entities'].append({\n",
    "                'text': entity.text,\n",
    "                'label': entity.label_\n",
    "            })\n",
    "\n",
    "        results.append(paper_results)\n",
    "\n",
    "\n",
    "        print(\"Title:\", paper.title)\n",
    "\n"
   ]
  },
  {
   "cell_type": "code",
   "execution_count": null,
   "metadata": {},
   "outputs": [],
   "source": [
    "with open('tb_papers_annotated.pkl', 'rb') as file:\n",
    "    paper_instances = pickle.load(file)\n",
    "\n",
    "nlp_bc5cdr = spacy.load(\"en_ner_bc5cdr_md\")\n",
    "\n",
    "\n",
    "nlp_bionlp13cg = spacy.load(\"en_ner_bionlp13cg_md\")\n",
    "\n",
    "target_id = \"34873089\"\n",
    "\n",
    "results = []\n",
    "\n",
    "for paper in paper_instances:\n",
    "    if paper.id == target_id:\n",
    "        doc_bc5cdr = nlp_bc5cdr(paper.title_abstract)\n",
    "        doc_bionlp13cg = nlp_bionlp13cg(paper.title_abstract)\n",
    "        \n",
    "        print(\"Title:\", paper.title)\n",
    "\n",
    "        unique_annotations = set()\n",
    "\n",
    "        for entity in doc_bc5cdr.ents:\n",
    "            annotation = (entity.text, entity.label_)\n",
    "            if annotation not in unique_annotations:\n",
    "                unique_annotations.add(annotation)\n",
    "                print(entity.text, entity.label_)\n",
    "\n",
    "        for entity in doc_bionlp13cg.ents:\n",
    "            annotation = (entity.text, entity.label_)\n",
    "            if annotation not in unique_annotations:\n",
    "                unique_annotations.add(annotation)\n",
    "                print(entity.text, entity.label_)\n",
    "\n",
    "        paper_results = {\n",
    "            'title': paper.title,\n",
    "            'abstract': paper.abstract,\n",
    "            'entities': []\n",
    "        }\n",
    "\n",
    "        for entity in doc_bc5cdr.ents:\n",
    "            paper_results['entities'].append({\n",
    "                'text': entity.text,\n",
    "                'label': entity.label_\n",
    "            })\n",
    "\n",
    "        for entity in doc_bionlp13cg.ents:\n",
    "            paper_results['entities'].append({\n",
    "                'text': entity.text,\n",
    "                'label': entity.label_\n",
    "            })\n",
    "\n",
    "        results.append(paper_results)"
   ]
  },
  {
   "attachments": {},
   "cell_type": "markdown",
   "metadata": {},
   "source": [
    "__Using EuropePMC API:__"
   ]
  },
  {
   "cell_type": "code",
   "execution_count": null,
   "metadata": {},
   "outputs": [],
   "source": [
    "target_id = \"34873089\"\n",
    "\n",
    "\n",
    "target_paper = None\n",
    "for paper_instance in paper_instances:\n",
    "    if paper_instance.id == target_id:\n",
    "        target_paper = paper_instance\n",
    "        break\n",
    "\n",
    "\n",
    "print(\"Título do Artigo:\", target_paper.title)\n",
    "\n",
    "\n",
    "target_paper = get_annotations(target_paper)\n",
    "\n",
    "\n",
    "diseases_annotations = target_paper.annotations['Diseases']\n",
    "chemicals_annotations = target_paper.annotations['Chemicals']\n",
    "gene_proteins_annotations = target_paper.annotations['Gene_Proteins']\n",
    "organisms_annotations = target_paper.annotations['Organisms']\n",
    "\n",
    "\n",
    "print(\"Diseases Annotations:\", diseases_annotations)\n",
    "print(\"Chemicals Annotations:\", chemicals_annotations)\n",
    "print(\"Gene/Proteins Annotations:\", gene_proteins_annotations)\n",
    "print(\"Organisms Annotations:\", organisms_annotations)"
   ]
  },
  {
   "attachments": {},
   "cell_type": "markdown",
   "metadata": {},
   "source": [
    "## Exploratory data analysis"
   ]
  },
  {
   "attachments": {},
   "cell_type": "markdown",
   "metadata": {},
   "source": [
    "## Word clouds"
   ]
  },
  {
   "attachments": {},
   "cell_type": "markdown",
   "metadata": {},
   "source": [
    "Word clouds provide a visually appealing representation of the most frequent or significant entities, allowing for quick and intuitive understanding of the data."
   ]
  },
  {
   "cell_type": "code",
   "execution_count": null,
   "metadata": {},
   "outputs": [],
   "source": [
    "def generate_wordcloud(title_abstract):\n",
    "    text = \" \".join(title_abstract.values.tolist())\n",
    "    wordcloud = WordCloud(width=800, height=400, background_color='white').generate(text)\n",
    "    plt.figure(figsize=(10, 5))\n",
    "    plt.imshow(wordcloud, interpolation='bilinear')\n",
    "    plt.axis('off')\n",
    "    %matplotlib inline\n",
    "    plt.show()"
   ]
  },
  {
   "cell_type": "code",
   "execution_count": null,
   "metadata": {
    "scrolled": true
   },
   "outputs": [],
   "source": [
    "tuberculosis_df = df[df['keyword'] == 'tuberculosis']\n",
    "mtb_df = df[df['keyword'] == 'Mycobacterium tuberculosis']\n",
    "targets_df = df[df['keyword'] == 'targets']"
   ]
  },
  {
   "cell_type": "code",
   "execution_count": null,
   "metadata": {},
   "outputs": [],
   "source": [
    "generate_wordcloud(tuberculosis_df.title_abstract)"
   ]
  },
  {
   "cell_type": "code",
   "execution_count": null,
   "metadata": {},
   "outputs": [],
   "source": [
    "generate_wordcloud(mtb_df.title_abstract)"
   ]
  },
  {
   "cell_type": "code",
   "execution_count": null,
   "metadata": {},
   "outputs": [],
   "source": [
    "generate_wordcloud(targets_df.title_abstract)"
   ]
  }
 ],
 "metadata": {
  "kernelspec": {
   "display_name": "Python 3 (ipykernel)",
   "language": "python",
   "name": "python3"
  },
  "language_info": {
   "codemirror_mode": {
    "name": "ipython",
    "version": 3
   },
   "file_extension": ".py",
   "mimetype": "text/x-python",
   "name": "python",
   "nbconvert_exporter": "python",
   "pygments_lexer": "ipython3",
   "version": "3.8.5"
  }
 },
 "nbformat": 4,
 "nbformat_minor": 2
}
