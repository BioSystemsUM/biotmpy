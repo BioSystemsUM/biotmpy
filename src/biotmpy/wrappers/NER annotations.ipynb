{
 "cells": [
  {
   "cell_type": "code",
   "execution_count": null,
   "metadata": {},
   "outputs": [],
   "source": [
    "import pickle\n",
    "import scispacy\n",
    "import spacy \n",
    "\n",
    "\n",
    "\n",
    "\n",
    "results= []\n",
    "for paper in paper_instances:\n",
    "    doc = nlp(paper.abstract)\n",
    "    \n",
    "    for entity in doc.ents:\n",
    "        print(entity.text, entity.label_)\n",
    "        \n",
    "        paper_results = {\n",
    "        'title': paper.title,\n",
    "        'abstract': paper.abstract,\n",
    "        'entities': []\n",
    "    }\n",
    "    for entity in doc.ents:\n",
    "        paper_results['entities'].append({\n",
    "            'text': entity.text,\n",
    "            'label': entity.label_\n",
    "        })\n",
    "\n",
    "with open('results.pickle', 'wb') as file:\n",
    "    pickle.dump(results, file)\n"
   ]
  }
 ],
 "metadata": {
  "language_info": {
   "name": "python"
  },
  "orig_nbformat": 4
 },
 "nbformat": 4,
 "nbformat_minor": 2
}
